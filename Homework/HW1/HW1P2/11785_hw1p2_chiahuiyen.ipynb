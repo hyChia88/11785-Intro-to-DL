{
  "cells": [
    {
      "cell_type": "markdown",
      "metadata": {
        "id": "F9ERgBpbcMmB"
      },
      "source": [
        "# HW1P2: Frame-Level Speech Recognition"
      ]
    },
    {
      "cell_type": "markdown",
      "metadata": {
        "id": "z4vZbDmJvMp1"
      },
      "source": [
        "# Libraries"
      ]
    },
    {
      "cell_type": "code",
      "execution_count": null,
      "metadata": {
        "execution": {
          "iopub.execute_input": "2025-02-02T22:03:36.757068Z",
          "iopub.status.busy": "2025-02-02T22:03:36.756871Z",
          "iopub.status.idle": "2025-02-02T22:03:41.039694Z",
          "shell.execute_reply": "2025-02-02T22:03:41.038745Z",
          "shell.execute_reply.started": "2025-02-02T22:03:36.757048Z"
        },
        "id": "rwYu9sSUnSho",
        "trusted": true
      },
      "outputs": [],
      "source": [
        "!pip install torchsummary wandb --quiet"
      ]
    },
    {
      "cell_type": "markdown",
      "metadata": {
        "id": "a_CNokCUkgQ5"
      },
      "source": []
    },
    {
      "cell_type": "code",
      "execution_count": null,
      "metadata": {
        "execution": {
          "iopub.execute_input": "2025-02-02T22:03:41.040887Z",
          "iopub.status.busy": "2025-02-02T22:03:41.040619Z",
          "iopub.status.idle": "2025-02-02T22:03:44.290327Z",
          "shell.execute_reply": "2025-02-02T22:03:44.289119Z",
          "shell.execute_reply.started": "2025-02-02T22:03:41.040855Z"
        },
        "id": "ijYNIOkpYrXf",
        "trusted": true
      },
      "outputs": [],
      "source": [
        "!pip install torchaudio --quiet"
      ]
    },
    {
      "cell_type": "code",
      "execution_count": null,
      "metadata": {
        "colab": {
          "base_uri": "https://localhost:8080/"
        },
        "execution": {
          "iopub.execute_input": "2025-02-02T22:03:44.291634Z",
          "iopub.status.busy": "2025-02-02T22:03:44.291373Z",
          "iopub.status.idle": "2025-02-02T22:03:50.839394Z",
          "shell.execute_reply": "2025-02-02T22:03:50.838548Z",
          "shell.execute_reply.started": "2025-02-02T22:03:44.291607Z"
        },
        "id": "qI4qfx7tiBZt",
        "outputId": "4f5cb669-4c5e-450c-b9a7-c6cc28ba3c92",
        "trusted": true
      },
      "outputs": [
        {
          "name": "stdout",
          "output_type": "stream",
          "text": [
            "Device:  cuda\n"
          ]
        }
      ],
      "source": [
        "import torch\n",
        "import torch.nn as nn\n",
        "import numpy as np\n",
        "from torchsummary import summary\n",
        "import sklearn\n",
        "import gc\n",
        "import zipfile\n",
        "import bisect\n",
        "import pandas as pd\n",
        "from tqdm.auto import tqdm\n",
        "import os\n",
        "import datetime\n",
        "import wandb\n",
        "import yaml\n",
        "import torchaudio.transforms as tat\n",
        "import torchaudio\n",
        "device = 'cuda' if torch.cuda.is_available() else 'cpu'\n",
        "print(\"Device: \", device)"
      ]
    },
    {
      "cell_type": "markdown",
      "metadata": {
        "id": "eqsFLqa6rCuc"
      },
      "source": [
        "# Mount Google Drive"
      ]
    },
    {
      "cell_type": "code",
      "execution_count": null,
      "metadata": {
        "colab": {
          "base_uri": "https://localhost:8080/"
        },
        "execution": {
          "iopub.execute_input": "2025-02-02T22:03:50.841683Z",
          "iopub.status.busy": "2025-02-02T22:03:50.841458Z",
          "iopub.status.idle": "2025-02-02T22:03:50.844817Z",
          "shell.execute_reply": "2025-02-02T22:03:50.843953Z",
          "shell.execute_reply.started": "2025-02-02T22:03:50.841663Z"
        },
        "id": "Z23Nag1jq_yA",
        "outputId": "7ff717b3-03db-4eed-8281-8fe00f34a8bb",
        "trusted": true
      },
      "outputs": [
        {
          "name": "stdout",
          "output_type": "stream",
          "text": [
            "Drive already mounted at /content/drive; to attempt to forcibly remount, call drive.mount(\"/content/drive\", force_remount=True).\n"
          ]
        }
      ],
      "source": [
        "''' If you are using colab, you can import google drive to save model checkpoints in a folder\n",
        "    If you want to use it, uncomment the two lines below\n",
        "'''\n",
        "from google.colab import drive\n",
        "drive.mount('/content/drive')"
      ]
    },
    {
      "cell_type": "code",
      "execution_count": null,
      "metadata": {
        "execution": {
          "iopub.execute_input": "2025-02-02T22:03:50.846530Z",
          "iopub.status.busy": "2025-02-02T22:03:50.846253Z",
          "iopub.status.idle": "2025-02-02T22:03:50.864188Z",
          "shell.execute_reply": "2025-02-02T22:03:50.863385Z",
          "shell.execute_reply.started": "2025-02-02T22:03:50.846497Z"
        },
        "id": "N-9qE20hmCgQ",
        "trusted": true
      },
      "outputs": [],
      "source": [
        "### PHONEME LIST\n",
        "PHONEMES = [\n",
        "            '[SIL]',   'AA',    'AE',    'AH',    'AO',    'AW',    'AY',\n",
        "            'B',     'CH',    'D',     'DH',    'EH',    'ER',    'EY',\n",
        "            'F',     'G',     'HH',    'IH',    'IY',    'JH',    'K',\n",
        "            'L',     'M',     'N',     'NG',    'OW',    'OY',    'P',\n",
        "            'R',     'S',     'SH',    'T',     'TH',    'UH',    'UW',\n",
        "            'V',     'W',     'Y',     'Z',     'ZH',    '[SOS]', '[EOS]']"
      ]
    },
    {
      "cell_type": "markdown",
      "metadata": {
        "id": "ZIi0Big7vPa9"
      },
      "source": [
        "# Kaggle"
      ]
    },
    {
      "cell_type": "code",
      "execution_count": null,
      "metadata": {
        "colab": {
          "base_uri": "https://localhost:8080/"
        },
        "execution": {
          "iopub.execute_input": "2025-02-02T22:03:50.865296Z",
          "iopub.status.busy": "2025-02-02T22:03:50.865025Z",
          "iopub.status.idle": "2025-02-02T22:03:50.876792Z",
          "shell.execute_reply": "2025-02-02T22:03:50.876063Z",
          "shell.execute_reply.started": "2025-02-02T22:03:50.865259Z"
        },
        "id": "TPBUd7Cnl-Rx",
        "outputId": "49b506d3-4d62-41dd-c94d-4a65d5a1a8c7",
        "trusted": true
      },
      "outputs": [
        {
          "name": "stdout",
          "output_type": "stream",
          "text": [
            "Collecting kaggle==1.6.17\n",
            "  Downloading kaggle-1.6.17.tar.gz (82 kB)\n",
            "\u001b[?25l     \u001b[90m━━━━━━━━━━━━━━━━━━━━━━━━━━━━━━━━━━━━━━━━\u001b[0m \u001b[32m0.0/82.7 kB\u001b[0m \u001b[31m?\u001b[0m eta \u001b[36m-:--:--\u001b[0m\r\u001b[2K     \u001b[90m━━━━━━━━━━━━━━━━━━━━━━━━━━━━━━━━━━━━━━━━\u001b[0m \u001b[32m82.7/82.7 kB\u001b[0m \u001b[31m3.7 MB/s\u001b[0m eta \u001b[36m0:00:00\u001b[0m\n",
            "\u001b[?25h  Preparing metadata (setup.py) ... \u001b[?25l\u001b[?25hdone\n",
            "Building wheels for collected packages: kaggle\n",
            "  Building wheel for kaggle (setup.py) ... \u001b[?25l\u001b[?25hdone\n",
            "  Created wheel for kaggle: filename=kaggle-1.6.17-py3-none-any.whl size=105786 sha256=198ca861e10b5fa99be71bdc3457165420d768df8216b6b4eab15f932e396bd3\n",
            "  Stored in directory: /root/.cache/pip/wheels/ff/55/fb/b27a466be754d2a06ffe0e37b248d844f090a63b51becea85d\n",
            "Successfully built kaggle\n",
            "Installing collected packages: kaggle\n",
            "  Attempting uninstall: kaggle\n",
            "    Found existing installation: kaggle 1.6.17\n",
            "    Uninstalling kaggle-1.6.17:\n",
            "      Successfully uninstalled kaggle-1.6.17\n",
            "Successfully installed kaggle-1.6.17\n"
          ]
        }
      ],
      "source": [
        "!pip install --upgrade kaggle==1.6.17 --force-reinstall --no-deps\n",
        "!mkdir /root/.kaggle\n",
        "\n",
        "with open(\"/root/.kaggle/kaggle.json\", \"w+\") as f:\n",
        "    # Put your kaggle username & key here\n",
        "\n",
        "    f.write('{\"username\":\"hy8888\",\"key\":\"4c3d0c8b26506874f701b0ccc2f494d0\"}')\n",
        "\n",
        "!chmod 600 /root/.kaggle/kaggle.json"
      ]
    },
    {
      "cell_type": "code",
      "execution_count": null,
      "metadata": {
        "colab": {
          "base_uri": "https://localhost:8080/"
        },
        "execution": {
          "iopub.execute_input": "2025-02-02T22:03:50.877731Z",
          "iopub.status.busy": "2025-02-02T22:03:50.877459Z",
          "iopub.status.idle": "2025-02-02T22:03:51.025048Z",
          "shell.execute_reply": "2025-02-02T22:03:51.023956Z",
          "shell.execute_reply.started": "2025-02-02T22:03:50.877710Z"
        },
        "id": "if2Somqfbje1",
        "outputId": "83df87c6-26dd-4ead-9295-af3dbb8e3211",
        "trusted": true
      },
      "outputs": [
        {
          "name": "stdout",
          "output_type": "stream",
          "text": [
            "Downloading 11785-spring-25-hw-1-p-2.zip to /content\n",
            "100% 3.98G/3.98G [00:16<00:00, 333MB/s]\n",
            "100% 3.98G/3.98G [00:16<00:00, 254MB/s]\n"
          ]
        }
      ],
      "source": [
        "# commands to download data from kaggle\n",
        "!kaggle competitions download -c 11785-spring-25-hw-1-p-2\n",
        "\n",
        "# Unzip downloaded data\n",
        "!unzip -qo /content/11785-spring-25-hw-1-p-2.zip -d '/content'\n",
        "\n",
        "# List contents of the input directory\n",
        "# !ls /kaggle/input/11785-spring-25-hw-1-p-2/\n",
        "# Check if directory exists\n",
        "# !find /kaggle/input/11785-spring-25-hw-1-p-2 -type d"
      ]
    },
    {
      "cell_type": "markdown",
      "metadata": {
        "id": "qNacQ8bpt9nw"
      },
      "source": [
        "# Parameters Configuration"
      ]
    },
    {
      "cell_type": "code",
      "execution_count": null,
      "metadata": {
        "execution": {
          "iopub.execute_input": "2025-02-02T22:03:51.031804Z",
          "iopub.status.busy": "2025-02-02T22:03:51.031576Z",
          "iopub.status.idle": "2025-02-02T22:03:51.047008Z",
          "shell.execute_reply": "2025-02-02T22:03:51.046145Z",
          "shell.execute_reply.started": "2025-02-02T22:03:51.031784Z"
        },
        "id": "S5gMTwnSnp8K",
        "trusted": true
      },
      "outputs": [],
      "source": [
        "config = {\n",
        "    'Name': 'hy8888', # Write your name here\n",
        "    'subset': 0.6, # Subset of dataset to use (1.0 == 100% of data)\n",
        "    'context': 30,\n",
        "    'archetype': 'pyramid', # Default Values: pyramid, diamond, inverse-pyramid,cylinder\n",
        "    'activations': 'ReLU', # Opt:GELU\n",
        "    'learning_rate': 0.001,\n",
        "    'dropout': 0.3,\n",
        "    'optimizers': 'AdamW', # Opt: SDG\n",
        "    'scheduler': 'ReduceLROnPlateau',\n",
        "    'epochs': 20,\n",
        "    'batch_size': 512,\n",
        "    'weight_decay': 0.01,\n",
        "    'weight_initialization': None, # e.g kaiming_normal, kaiming_uniform, uniform, xavier_normal or xavier_uniform\n",
        "    'augmentations': 'Both', # Options: [\"FreqMask\", \"TimeMask\", \"Both\", null]\n",
        "    'freq_mask_param': 4,\n",
        "    'time_mask_param': 8,\n",
        " }"
      ]
    },
    {
      "cell_type": "code",
      "execution_count": null,
      "metadata": {
        "colab": {
          "base_uri": "https://localhost:8080/"
        },
        "execution": {
          "iopub.execute_input": "2025-02-02T22:03:51.048379Z",
          "iopub.status.busy": "2025-02-02T22:03:51.048002Z",
          "iopub.status.idle": "2025-02-02T22:03:51.063945Z",
          "shell.execute_reply": "2025-02-02T22:03:51.063061Z",
          "shell.execute_reply.started": "2025-02-02T22:03:51.048336Z"
        },
        "id": "vzeqgWS9pumb",
        "outputId": "5a4d8d80-ca04-4bfd-94b1-24991c299919",
        "trusted": true
      },
      "outputs": [
        {
          "data": {
            "text/plain": [
              "{'Name': 'hy8888',\n",
              " 'subset': 0.6,\n",
              " 'context': 30,\n",
              " 'archetype': 'pyramid',\n",
              " 'activations': 'ReLU',\n",
              " 'learning_rate': 0.001,\n",
              " 'dropout': 0.3,\n",
              " 'optimizers': 'AdamW',\n",
              " 'scheduler': 'ReduceLROnPlateau',\n",
              " 'epochs': 30,\n",
              " 'batch_size': 512,\n",
              " 'weight_decay': 0.01,\n",
              " 'weight_initialization': None,\n",
              " 'augmentations': 'Both',\n",
              " 'freq_mask_param': 4,\n",
              " 'time_mask_param': 8}"
            ]
          },
          "execution_count": 27,
          "metadata": {},
          "output_type": "execute_result"
        }
      ],
      "source": [
        "config"
      ]
    },
    {
      "cell_type": "markdown",
      "metadata": {
        "id": "FYeyFHQ1yRi4"
      },
      "source": [
        "# Dataset Class"
      ]
    },
    {
      "cell_type": "code",
      "execution_count": null,
      "metadata": {
        "execution": {
          "iopub.execute_input": "2025-02-02T22:03:51.065350Z",
          "iopub.status.busy": "2025-02-02T22:03:51.065040Z",
          "iopub.status.idle": "2025-02-02T22:03:51.078367Z",
          "shell.execute_reply": "2025-02-02T22:03:51.077531Z",
          "shell.execute_reply.started": "2025-02-02T22:03:51.065321Z"
        },
        "id": "HYU4NAH65dSb",
        "trusted": true
      },
      "outputs": [],
      "source": [
        "# Dataset class to load train and validation data\n",
        "\n",
        "class AudioDataset(torch.utils.data.Dataset):\n",
        "\n",
        "    def __init__(self, root, phonemes = PHONEMES, context=0, partition= \"train-clean-100\"): # Feel free to add more arguments\n",
        "\n",
        "        self.context    = context\n",
        "        self.phonemes   = phonemes\n",
        "        self.subset = config['subset']\n",
        "\n",
        "        # TODO: Initialize augmentations. Read the Pytorch torchaudio documentations on timemasking and frequencymasking\n",
        "        self.freq_masking = tat.FrequencyMasking(freq_mask_param=config['time_mask_param'])\n",
        "        self.time_masking = tat.TimeMasking(time_mask_param=config['freq_mask_param'])\n",
        "\n",
        "\n",
        "        # TODO: MFCC directory - use partition to acces train/dev directories from kaggle data using root\n",
        "        self.mfcc_dir       = os.path.join(root, partition, 'mfcc')\n",
        "        # TODO: Transcripts directory - use partition to acces train/dev directories from kaggle data using root\n",
        "        self.transcript_dir = os.path.join(root, partition, 'transcript')\n",
        "\n",
        "        # TODO: List files in sefl.mfcc_dir using os.listdir in SORTED order\n",
        "        mfcc_names          = sorted(os.listdir(self.mfcc_dir))\n",
        "        # TODO: List files in self.transcript_dir using os.listdir in SORTED order\n",
        "        transcript_names    = sorted(os.listdir(self.transcript_dir))\n",
        "\n",
        "        # Compute size of data subset\n",
        "        subset_size = int(self.subset * len(mfcc_names))\n",
        "\n",
        "        # Select subset of data to use\n",
        "        mfcc_names = mfcc_names[:subset_size]\n",
        "        transcript_names = transcript_names[:subset_size]\n",
        "\n",
        "        # Making sure that we have the same no. of mfcc and transcripts\n",
        "        assert len(mfcc_names) == len(transcript_names)\n",
        "\n",
        "        self.mfccs, self.transcripts = [], []\n",
        "\n",
        "\n",
        "        # TODO: Iterate through mfccs and transcripts\n",
        "        for i in tqdm(range(len(mfcc_names))):\n",
        "\n",
        "            # TODO: Load a single mfcc. Hint: Use numpy\n",
        "            mfcc             = np.load(os.path.join(self.mfcc_dir, mfcc_names[i]))\n",
        "            # TODO: Do Cepstral Normalization of mfcc along the Time Dimension (Think about the correct axis)\n",
        "            # cepstral normalization == mean normalization\n",
        "            mfccs_normalized = mfcc - np.mean(mfcc, axis=0)\n",
        "\n",
        "            # Convert mfcc to tensor\n",
        "            mfccs_normalized = torch.tensor(mfccs_normalized, dtype=torch.float32)\n",
        "\n",
        "            # TODO: Load the corresponding transcript\n",
        "            # Remove [SOS] and [EOS] from the transcript\n",
        "            # (Is there an efficient way to do this without traversing through the transcript?)\n",
        "            # Note that SOS will always be in the starting and EOS at end, as the name suggests.\n",
        "            transcript  = np.load(os.path.join(self.transcript_dir, transcript_names[i]))[1:-1]\n",
        "\n",
        "            # The available phonemes in the transcript are of string data type\n",
        "            # But the neural network cannot predict strings as such.\n",
        "            # Hence, we map these phonemes to integers\n",
        "\n",
        "            # TODO: Map the phonemes to their corresponding list indexes in self.phonemes\n",
        "            transcript_indices = [self.phonemes.index(p) for p in transcript]\n",
        "            # Now, if an element in the transcript is 0, it means that it is 'SIL' (as per the above example)\n",
        "\n",
        "            # Convert transcript to tensor\n",
        "            transcript_indices = torch.tensor(transcript_indices, dtype=torch.int64)\n",
        "\n",
        "            # Append each mfcc to self.mfcc, transcript to self.transcript\n",
        "            self.mfccs.append(mfccs_normalized)\n",
        "            self.transcripts.append(transcript_indices)\n",
        "\n",
        "        # NOTE:\n",
        "        # Each mfcc is of shape T1 x 28, T2 x 28, ...\n",
        "        # Each transcript is of shape (T1+2), (T2+2) before removing [SOS] and [EOS]\n",
        "\n",
        "        # TODO: Concatenate all mfccs in self.mfccs such that\n",
        "        # the final shape is T x 28 (Where T = T1 + T2 + ...)\n",
        "        # Hint: Use torch to concatenate\n",
        "        self.mfccs          = torch.cat(self.mfccs, dim=0)\n",
        "\n",
        "        # TODO: Concatenate all transcripts in self.transcripts such that\n",
        "        # the final shape is (T,) meaning, each time step has one phoneme output\n",
        "        # Hint: Use torch to concatenate\n",
        "        self.transcripts    = torch.cat(self.transcripts)\n",
        "\n",
        "        # Take some time to think about what we have done.\n",
        "        # self.mfcc is an array of the format (Frames x Features).\n",
        "        # Our goal is to recognize phonemes of each frame\n",
        "\n",
        "        # We can introduce context by padding zeros on top and bottom of self.mfcc\n",
        "        # Hint: Use torch.nn.functional.pad\n",
        "        # torch.nn.functional.pad takes the padding in the form of (left, right, top, bottom) for 2D data\n",
        "        self.mfccs = nn.functional.pad(self.mfccs, (0,0,config['context'],config['context']), mode='constant', value=0)\n",
        "\n",
        "        # Length of the dataset is now the length of concatenated mfccs/transcripts\n",
        "        self.length = len(self.mfccs) - 2 * config['context']\n",
        "\n",
        "    def __len__(self):\n",
        "        return self.length\n",
        "\n",
        "    def collate_fn(self, batch):\n",
        "      x, y = zip(*batch)\n",
        "      x = torch.stack(x, dim=0)\n",
        "\n",
        "      # Apply augmentations with 70% probability (You can modify the probability)\n",
        "      if np.random.rand() < 0.70:\n",
        "        x = x.transpose(1, 2)  # Shape: (batch_size, freq, time)\n",
        "        x = self.freq_masking(x)\n",
        "        x = self.time_masking(x)\n",
        "        x = x.transpose(1, 2)  # Shape back to: (batch_size, time, freq)\n",
        "\n",
        "      return x, torch.tensor(y)\n",
        "\n",
        "    def __getitem__(self, ind):\n",
        "        # TODO: Based on context and offset, return a frame at given index with context frames to the left, and right.\n",
        "        start = ind\n",
        "        end = ind + 2 * config['context'] + 1\n",
        "        frames = self.mfccs[start:end]\n",
        "\n",
        "        # To ensure consistent size\n",
        "        if frames.shape[0] != 2 * config['context'] + 1:\n",
        "            # Pad if shorter\n",
        "            needed_padding = (2 * config['context'] + 1) - frames.shape[0]\n",
        "            frames = torch.nn.functional.pad(frames, (0, 0, 0, needed_padding))\n",
        "\n",
        "        # After slicing, you get an array of shape 2*context+1 x 28.\n",
        "\n",
        "        phonemes = self.transcripts[ind]\n",
        "\n",
        "        return frames, phonemes\n"
      ]
    },
    {
      "cell_type": "code",
      "execution_count": null,
      "metadata": {
        "execution": {
          "iopub.execute_input": "2025-02-02T22:03:51.079487Z",
          "iopub.status.busy": "2025-02-02T22:03:51.079201Z",
          "iopub.status.idle": "2025-02-02T22:03:51.094107Z",
          "shell.execute_reply": "2025-02-02T22:03:51.093309Z",
          "shell.execute_reply.started": "2025-02-02T22:03:51.079457Z"
        },
        "id": "C0rme6iT5dSb",
        "trusted": true
      },
      "outputs": [],
      "source": [
        "class AudioTestDataset(torch.utils.data.Dataset):\n",
        "    def __init__(self, root, phonemes = PHONEMES, context=0, partition= \"test-clean\"):\n",
        "        self.mfcc_dir       = os.path.join(root, partition, 'mfcc')\n",
        "        mfcc_names          = sorted(os.listdir(self.mfcc_dir))\n",
        "        self.mfccs          = []\n",
        "\n",
        "        for i in tqdm(range(len(mfcc_names))):\n",
        "            mfcc             = np.load(os.path.join(self.mfcc_dir, mfcc_names[i]))\n",
        "            mfccs_normalized = mfcc - np.mean(mfcc, axis=0)\n",
        "            mfccs_normalized = torch.tensor(mfccs_normalized, dtype=torch.float32)\n",
        "            self.mfccs.append(mfccs_normalized)\n",
        "\n",
        "        self.mfccs = torch.cat(self.mfccs)\n",
        "        self.mfccs = nn.functional.pad(self.mfccs, (0,0,config['context'],config['context']), mode='constant', value=0)\n",
        "        self.length = len(self.mfccs) - 2 * config['context']\n",
        "\n",
        "    def __len__(self):\n",
        "        return self.length\n",
        "\n",
        "    def __getitem__(self, ind):\n",
        "        start = ind\n",
        "        end = ind + 2 * config['context'] + 1\n",
        "        frames = self.mfccs[start:end]\n",
        "\n",
        "        return frames\n",
        "\n",
        "    # TODO: Create a test dataset class similar to the previous class but you dont have transcripts for this\n",
        "    # Imp: Read the mfccs in sorted order, do NOT shuffle the data here or in your dataloader.\n",
        "    # IMPORTANT: Load complete test data to use, DO NOT select subset of test data, else you will get errors when submitting on Kaggle."
      ]
    },
    {
      "cell_type": "markdown",
      "metadata": {
        "id": "2mlwaKlDt_2c"
      },
      "source": [
        "# Create Datasets"
      ]
    },
    {
      "cell_type": "code",
      "execution_count": null,
      "metadata": {
        "colab": {
          "base_uri": "https://localhost:8080/",
          "height": 113,
          "referenced_widgets": [
            "eacb32a193fa4307b159702d0bd5b4bd",
            "38f7a47cc1704a36998589cde51e1f6a",
            "b3ad13a7630f477b9d312a03838c1419",
            "a906cc4fc3c34e2fba460165072987a2",
            "ca52be2639124488a0668d5e0466d608",
            "4c81a90da8a542efa989ff9039428c87",
            "cfb447773d9f4499b5c59ec5a0f0ee5a",
            "bab346e649c44bf5a58bd27e821f1952",
            "47037d728f414edf989885cc12974204",
            "6773e93216e44ec5819274fa6f43d2f9",
            "7ee63388706b4472a194a6b7502a8028",
            "93c90f419ced4d56b8795dd4a6950fe9",
            "f68690faf78740669d2d910a877446bb",
            "0e00ae391eaf40c9b0e0a9f875783ab8",
            "517e4015cbcf460f8d7fc9b2e2462a0b",
            "952770f99abb4a898d78e3c18f947113",
            "c45137933f8d430f9d32976ecd8fb58f",
            "221098ab2b834053baca92e50a6b883a",
            "c321ec7a479d4f3d910353ec0c281f61",
            "104b3ddefeb54bae9195bdf5d9d96a97",
            "e561cadccca9412fa25ee1b2b9d895d3",
            "91482b39c918441180d535d3b5d97213",
            "4c8ef1702d944a9cba131afb36099a60",
            "39a8314c42824d598c193e6c15542e92",
            "21e0aa6c712a42dda74ca2b021169acc",
            "52282d94f937442c8949aedca2f2897c",
            "df4f2ba01aea430ab72f7fec722adfc3",
            "bd5fb586e01b43ae9b579a623fbfaab6",
            "c5a6d1b6f7464d858c54b643ad6b67fc",
            "6e6870d9d4744805a9ba3105cdd483b8",
            "6db150abc07b47b5997e9bb2b6107b76",
            "dcda7e295d88418a9725aedc3e5eba8a",
            "da90202da8ea4acaa809f9b72f437196"
          ]
        },
        "execution": {
          "iopub.execute_input": "2025-02-02T22:03:51.097896Z",
          "iopub.status.busy": "2025-02-02T22:03:51.097707Z",
          "iopub.status.idle": "2025-02-02T22:06:49.631074Z",
          "shell.execute_reply": "2025-02-02T22:06:49.630249Z",
          "shell.execute_reply.started": "2025-02-02T22:03:51.097879Z"
        },
        "id": "gJvMzHhB5dSc",
        "outputId": "b6794956-20cf-4d0f-952b-d2f854292cff",
        "trusted": true
      },
      "outputs": [
        {
          "data": {
            "application/vnd.jupyter.widget-view+json": {
              "model_id": "eacb32a193fa4307b159702d0bd5b4bd",
              "version_major": 2,
              "version_minor": 0
            },
            "text/plain": [
              "  0%|          | 0/17123 [00:00<?, ?it/s]"
            ]
          },
          "metadata": {},
          "output_type": "display_data"
        },
        {
          "data": {
            "application/vnd.jupyter.widget-view+json": {
              "model_id": "93c90f419ced4d56b8795dd4a6950fe9",
              "version_major": 2,
              "version_minor": 0
            },
            "text/plain": [
              "  0%|          | 0/1621 [00:00<?, ?it/s]"
            ]
          },
          "metadata": {},
          "output_type": "display_data"
        },
        {
          "data": {
            "application/vnd.jupyter.widget-view+json": {
              "model_id": "4c8ef1702d944a9cba131afb36099a60",
              "version_major": 2,
              "version_minor": 0
            },
            "text/plain": [
              "  0%|          | 0/2620 [00:00<?, ?it/s]"
            ]
          },
          "metadata": {},
          "output_type": "display_data"
        }
      ],
      "source": [
        "# ROOT = \"/kaggle/input/11785-spring-25-hw-1-p-2/11785-s25-hw1p2\"\n",
        "ROOT =\"/content/11785-s25-hw1p2\" # Define the root directory of the dataset here\n",
        "\n",
        "# TODO: Create a dataset object using the AudioDataset class for the training data\n",
        "train_data = AudioDataset(ROOT, partition=\"train-clean-100\")\n",
        "\n",
        "# TODO: Create a dataset object using the AudioDataset class for the validation data\n",
        "val_data = AudioDataset(ROOT, partition=\"dev-clean\")\n",
        "\n",
        "# TODO: Create a dataset object using the AudioTestDataset class for the test data\n",
        "test_data = AudioTestDataset(ROOT, partition=\"test-clean\")"
      ]
    },
    {
      "cell_type": "code",
      "execution_count": null,
      "metadata": {
        "colab": {
          "base_uri": "https://localhost:8080/"
        },
        "execution": {
          "iopub.execute_input": "2025-02-02T22:06:49.633585Z",
          "iopub.status.busy": "2025-02-02T22:06:49.633357Z",
          "iopub.status.idle": "2025-02-02T22:06:49.638326Z",
          "shell.execute_reply": "2025-02-02T22:06:49.637621Z",
          "shell.execute_reply.started": "2025-02-02T22:06:49.633565Z"
        },
        "id": "jZAppZBATQMe",
        "outputId": "7add4ca5-6c61-4382-c151-aa0e35a5f2f2",
        "trusted": true
      },
      "outputs": [
        {
          "name": "stdout",
          "output_type": "stream",
          "text": [
            "Train length: 21512633\n",
            "Val length: 1220601\n",
            "Test length: 1934138\n"
          ]
        }
      ],
      "source": [
        "# Check\n",
        "print(f\"Train length: {len(train_data)}\")\n",
        "print(f\"Val length: {len(val_data)}\")\n",
        "print(f\"Test length: {len(test_data)}\")\n",
        "assert len(test_data) == 1934138, \"Test length mismatch\""
      ]
    },
    {
      "cell_type": "code",
      "execution_count": null,
      "metadata": {
        "colab": {
          "base_uri": "https://localhost:8080/"
        },
        "execution": {
          "iopub.execute_input": "2025-02-02T22:06:49.639323Z",
          "iopub.status.busy": "2025-02-02T22:06:49.639091Z",
          "iopub.status.idle": "2025-02-02T22:06:49.665890Z",
          "shell.execute_reply": "2025-02-02T22:06:49.665057Z",
          "shell.execute_reply.started": "2025-02-02T22:06:49.639302Z"
        },
        "id": "4mzoYfTKu14s",
        "outputId": "4beaf1b3-f44a-413a-c7ca-bfb22bd1d571",
        "trusted": true
      },
      "outputs": [
        {
          "name": "stdout",
          "output_type": "stream",
          "text": [
            "Batch size     :  512\n",
            "Context        :  30\n",
            "Input size     :  1708\n",
            "Output symbols :  42\n",
            "Train dataset samples = 21512633, batches = 42016\n",
            "Validation dataset samples = 1220601, batches = 2384\n",
            "Test dataset samples = 1934138, batches = 3778\n"
          ]
        }
      ],
      "source": [
        "# Define dataloaders for train, val and test datasets\n",
        "# Dataloaders will yield a batch of frames and phonemes of given batch_size at every iteration\n",
        "# We shuffle train dataloader but not val & test dataloader. Why?\n",
        "\n",
        "train_loader = torch.utils.data.DataLoader(\n",
        "    dataset     = train_data,\n",
        "    num_workers = 2,\n",
        "    batch_size  = config['batch_size'],\n",
        "    pin_memory  = True,\n",
        "    shuffle     = True,\n",
        "    collate_fn = train_data.collate_fn,\n",
        "    drop_last=True # to avoid last batch of data incomplete, instead of padding just drop the last batch to maintain the format\n",
        ")\n",
        "\n",
        "val_loader = torch.utils.data.DataLoader(\n",
        "    dataset     = val_data,\n",
        "    num_workers = 0,\n",
        "    batch_size  = config['batch_size'],\n",
        "    pin_memory  = True,\n",
        "    shuffle     = False\n",
        ")\n",
        "\n",
        "test_loader = torch.utils.data.DataLoader(\n",
        "    dataset     = test_data,\n",
        "    num_workers = 2,\n",
        "    batch_size  = config['batch_size'],\n",
        "    pin_memory  = True,\n",
        "    shuffle     = False\n",
        ")\n",
        "\n",
        "\n",
        "print(\"Batch size     : \", config['batch_size'])\n",
        "print(\"Context        : \", config['context'])\n",
        "print(\"Input size     : \", (2*config['context']+1)*28)\n",
        "print(\"Output symbols : \", len(PHONEMES))\n",
        "\n",
        "print(\"Train dataset samples = {}, batches = {}\".format(train_data.__len__(), len(train_loader)))\n",
        "print(\"Validation dataset samples = {}, batches = {}\".format(val_data.__len__(), len(val_loader)))\n",
        "print(\"Test dataset samples = {}, batches = {}\".format(test_data.__len__(), len(test_loader)))"
      ]
    },
    {
      "cell_type": "code",
      "execution_count": null,
      "metadata": {
        "colab": {
          "base_uri": "https://localhost:8080/",
          "height": 582
        },
        "execution": {
          "iopub.execute_input": "2025-02-02T22:06:49.667031Z",
          "iopub.status.busy": "2025-02-02T22:06:49.666775Z",
          "iopub.status.idle": "2025-02-02T22:06:52.263609Z",
          "shell.execute_reply": "2025-02-02T22:06:52.262783Z",
          "shell.execute_reply.started": "2025-02-02T22:06:49.667000Z"
        },
        "id": "n-GV3UvgLSoF",
        "outputId": "1f7d1e52-434d-4f6a-f198-29b082715207",
        "trusted": true
      },
      "outputs": [
        {
          "name": "stdout",
          "output_type": "stream",
          "text": [
            "torch.Size([512, 61, 28]) torch.Size([512])\n"
          ]
        },
        {
          "data": {
            "image/png": "[encoded data removed]",
            "text/plain": [
              "<Figure size 1000x600 with 1 Axes>"
            ]
          },
          "metadata": {},
          "output_type": "display_data"
        }
      ],
      "source": [
        "import matplotlib.pyplot as plt\n",
        "\n",
        "# Testing code to check if your data loaders are working\n",
        "for i, data in enumerate(train_loader):\n",
        "    frames, phoneme = data\n",
        "    print(frames.shape, phoneme.shape)\n",
        "\n",
        "    # Visualize sample mfcc to inspect and verify everything is correctly done, especially augmentations\n",
        "    plt.figure(figsize=(10, 6))\n",
        "    plt.imshow(frames[0].numpy().T, aspect='auto', origin='lower', cmap='viridis')\n",
        "    plt.xlabel('Time')\n",
        "    plt.ylabel('Features')\n",
        "    plt.title('Feature Representation')\n",
        "    plt.show()\n",
        "\n",
        "    break"
      ]
    },
    {
      "cell_type": "code",
      "execution_count": null,
      "metadata": {
        "execution": {
          "iopub.execute_input": "2025-02-02T22:06:52.264930Z",
          "iopub.status.busy": "2025-02-02T22:06:52.264603Z",
          "iopub.status.idle": "2025-02-02T22:06:52.271015Z",
          "shell.execute_reply": "2025-02-02T22:06:52.270140Z",
          "shell.execute_reply.started": "2025-02-02T22:06:52.264902Z"
        },
        "id": "dJTrLe7J5dSc",
        "trusted": true
      },
      "outputs": [],
      "source": [
        "# Testing code to check if your validation data loaders are working\n",
        "all = []\n",
        "for i, data in enumerate(val_loader):\n",
        "    frames, phoneme = data\n",
        "    all.append(phoneme)\n",
        "    break"
      ]
    },
    {
      "cell_type": "markdown",
      "metadata": {
        "id": "Nxjwve20JRJ2"
      },
      "source": [
        "# Network Architecture\n"
      ]
    },
    {
      "cell_type": "code",
      "execution_count": null,
      "metadata": {
        "execution": {
          "iopub.execute_input": "2025-02-02T22:06:52.286820Z",
          "iopub.status.busy": "2025-02-02T22:06:52.286587Z",
          "iopub.status.idle": "2025-02-02T22:06:52.299110Z",
          "shell.execute_reply": "2025-02-02T22:06:52.298154Z",
          "shell.execute_reply.started": "2025-02-02T22:06:52.286789Z"
        },
        "id": "-YsMpN-Exafq",
        "trusted": true
      },
      "outputs": [],
      "source": [
        "# This architecture will make you cross the very low cutoff\n",
        "# However, you need to run a lot of experiments to cross the medium or high cutoff\n",
        "# attempt_5_2\n",
        "\n",
        "class Network(nn.Module): # INPUTSIZE=(2*config['context']+1)*28)\n",
        "    def __init__(self, input_size, output_size):\n",
        "        super(Network, self).__init__()\n",
        "\n",
        "        self.model = nn.Sequential(\n",
        "            nn.Linear(input_size, 4096),\n",
        "            nn.BatchNorm1d(4096),\n",
        "            nn.ReLU(),\n",
        "            nn.Dropout(config['dropout']),\n",
        "\n",
        "            nn.Linear(4096, 2048),\n",
        "            nn.BatchNorm1d(2048),\n",
        "            nn.ReLU(),\n",
        "            nn.Dropout(config['dropout']),\n",
        "\n",
        "            nn.Linear(2048, 1024),\n",
        "            nn.BatchNorm1d(1024),\n",
        "            nn.ReLU(),\n",
        "            nn.Dropout(config['dropout']),\n",
        "\n",
        "            nn.Linear(1024, 512),\n",
        "            nn.BatchNorm1d(512),\n",
        "            nn.ReLU(),\n",
        "            nn.Dropout(config['dropout']),\n",
        "\n",
        "            nn.Linear(512, 256),\n",
        "            nn.BatchNorm1d(256),\n",
        "            nn.ReLU(),\n",
        "            nn.Dropout(config['dropout']),\n",
        "\n",
        "            nn.Linear(256, 128),\n",
        "            nn.BatchNorm1d(128),\n",
        "            nn.ReLU(),\n",
        "            nn.Dropout(config['dropout']),\n",
        "\n",
        "            nn.Linear(128, 64),\n",
        "            nn.BatchNorm1d(64),\n",
        "            nn.ReLU(),\n",
        "            nn.Dropout(config['dropout']),\n",
        "\n",
        "\n",
        "            nn.Linear(64, output_size)\n",
        "        )\n",
        "\n",
        "        if config['weight_initialization'] is not None:\n",
        "            self.initialize_weights()\n",
        "\n",
        "    def initialize_weights(self):\n",
        "        for m in self.modules():\n",
        "            if isinstance(m, torch.nn.Linear):\n",
        "                if config[\"weight_initialization\"] == \"xavier_normal\":\n",
        "                    torch.nn.init.xavier_normal_(m.weight)\n",
        "                elif config[\"weight_initialization\"] == \"xavier_uniform\":\n",
        "                    torch.nn.init.xavier_uniform_(m.weight)\n",
        "                elif config[\"weight_initialization\"] == \"kaiming_normal\":\n",
        "                    torch.nn.init.kaiming_normal_(m.weight, nonlinearity='relu')\n",
        "                elif config[\"weight_initialization\"] == \"kaiming_uniform\":\n",
        "                    torch.nn.init.kaiming_uniform_(m.weight, nonlinearity='relu')\n",
        "                elif config[\"weight_initialization\"] == \"uniform\":\n",
        "                    torch.nn.init.uniform_(m.weight)\n",
        "                else:\n",
        "                    raise ValueError(\"Invalid weight_initialization value\")\n",
        "\n",
        "                # Initialize bias to 0\n",
        "                m.bias.data.fill_(0)\n",
        "\n",
        "\n",
        "    def forward(self, x):\n",
        "\n",
        "        # Flatten to a 1D vector for each data point\n",
        "        x = torch.flatten(x, start_dim=1)  # Keeps batch size, flattens the rest\n",
        "\n",
        "        return self.model(x)"
      ]
    },
    {
      "cell_type": "markdown",
      "metadata": {
        "id": "HejoSXe3vMVU"
      },
      "source": [
        "# Define Model, Loss Function and Optimizer"
      ]
    },
    {
      "cell_type": "code",
      "execution_count": null,
      "metadata": {
        "colab": {
          "base_uri": "https://localhost:8080/"
        },
        "execution": {
          "iopub.execute_input": "2025-02-02T22:06:52.300319Z",
          "iopub.status.busy": "2025-02-02T22:06:52.299997Z",
          "iopub.status.idle": "2025-02-02T22:06:52.567552Z",
          "shell.execute_reply": "2025-02-02T22:06:52.566496Z",
          "shell.execute_reply.started": "2025-02-02T22:06:52.300285Z"
        },
        "id": "vN10d2F7uFAT",
        "outputId": "017196e1-33d3-4aba-c861-871a70e76256",
        "trusted": true
      },
      "outputs": [
        {
          "name": "stdout",
          "output_type": "stream",
          "text": [
            "Thu Feb  6 18:51:05 2025       \n",
            "+-----------------------------------------------------------------------------------------+\n",
            "| NVIDIA-SMI 550.54.15              Driver Version: 550.54.15      CUDA Version: 12.4     |\n",
            "|-----------------------------------------+------------------------+----------------------+\n",
            "| GPU  Name                 Persistence-M | Bus-Id          Disp.A | Volatile Uncorr. ECC |\n",
            "| Fan  Temp   Perf          Pwr:Usage/Cap |           Memory-Usage | GPU-Util  Compute M. |\n",
            "|                                         |                        |               MIG M. |\n",
            "|=========================================+========================+======================|\n",
            "|   0  NVIDIA A100-SXM4-40GB          Off |   00000000:00:04.0 Off |                    0 |\n",
            "| N/A   34C    P0             48W /  400W |     723MiB /  40960MiB |      0%      Default |\n",
            "|                                         |                        |             Disabled |\n",
            "+-----------------------------------------+------------------------+----------------------+\n",
            "                                                                                         \n",
            "+-----------------------------------------------------------------------------------------+\n",
            "| Processes:                                                                              |\n",
            "|  GPU   GI   CI        PID   Type   Process name                              GPU Memory |\n",
            "|        ID   ID                                                               Usage      |\n",
            "|=========================================================================================|\n",
            "+-----------------------------------------------------------------------------------------+\n",
            "CUDA available: True\n"
          ]
        }
      ],
      "source": [
        "!nvidia-smi\n",
        "print(\"CUDA available:\", torch.cuda.is_available())"
      ]
    },
    {
      "cell_type": "code",
      "execution_count": null,
      "metadata": {
        "colab": {
          "base_uri": "https://localhost:8080/"
        },
        "execution": {
          "iopub.execute_input": "2025-02-02T22:06:52.569250Z",
          "iopub.status.busy": "2025-02-02T22:06:52.568879Z",
          "iopub.status.idle": "2025-02-02T22:06:52.827903Z",
          "shell.execute_reply": "2025-02-02T22:06:52.827092Z",
          "shell.execute_reply.started": "2025-02-02T22:06:52.569211Z"
        },
        "id": "_qtrEM1ZvLje",
        "outputId": "78127584-acbf-48bd-d185-73ed84e3bb95",
        "trusted": true
      },
      "outputs": [
        {
          "name": "stdout",
          "output_type": "stream",
          "text": [
            "----------------------------------------------------------------\n",
            "        Layer (type)               Output Shape         Param #\n",
            "================================================================\n",
            "            Linear-1                 [-1, 4096]       7,000,064\n",
            "       BatchNorm1d-2                 [-1, 4096]           8,192\n",
            "              ReLU-3                 [-1, 4096]               0\n",
            "           Dropout-4                 [-1, 4096]               0\n",
            "            Linear-5                 [-1, 2048]       8,390,656\n",
            "       BatchNorm1d-6                 [-1, 2048]           4,096\n",
            "              ReLU-7                 [-1, 2048]               0\n",
            "           Dropout-8                 [-1, 2048]               0\n",
            "            Linear-9                 [-1, 1024]       2,098,176\n",
            "      BatchNorm1d-10                 [-1, 1024]           2,048\n",
            "             ReLU-11                 [-1, 1024]               0\n",
            "          Dropout-12                 [-1, 1024]               0\n",
            "           Linear-13                  [-1, 512]         524,800\n",
            "      BatchNorm1d-14                  [-1, 512]           1,024\n",
            "             ReLU-15                  [-1, 512]               0\n",
            "          Dropout-16                  [-1, 512]               0\n",
            "           Linear-17                  [-1, 256]         131,328\n",
            "      BatchNorm1d-18                  [-1, 256]             512\n",
            "             ReLU-19                  [-1, 256]               0\n",
            "          Dropout-20                  [-1, 256]               0\n",
            "           Linear-21                  [-1, 128]          32,896\n",
            "      BatchNorm1d-22                  [-1, 128]             256\n",
            "             ReLU-23                  [-1, 128]               0\n",
            "          Dropout-24                  [-1, 128]               0\n",
            "           Linear-25                   [-1, 64]           8,256\n",
            "      BatchNorm1d-26                   [-1, 64]             128\n",
            "             ReLU-27                   [-1, 64]               0\n",
            "          Dropout-28                   [-1, 64]               0\n",
            "           Linear-29                   [-1, 42]           2,730\n",
            "================================================================\n",
            "Total params: 18,205,162\n",
            "Trainable params: 18,205,162\n",
            "Non-trainable params: 0\n",
            "----------------------------------------------------------------\n",
            "Input size (MB): 0.01\n",
            "Forward/backward pass size (MB): 0.25\n",
            "Params size (MB): 69.45\n",
            "Estimated Total Size (MB): 69.70\n",
            "----------------------------------------------------------------\n"
          ]
        }
      ],
      "source": [
        "INPUT_SIZE  = (2*config['context']+1)*28 # Why is this the case? features\n",
        "# device = 'cuda' if torch.cuda.is_available() else 'cpu' # try cpu first\n",
        "model       = Network(INPUT_SIZE, len(train_data.phonemes)).to(device).cuda()\n",
        "summary(model, frames[0].to(device).shape)\n",
        "#  Output Shape [-1,,,,] -1 is a placeholder for the batch size\n",
        "# Check number of parameters of your network\n",
        "# Remember, you are limited to 20 million parameters for HW1 (including ensembles)"
      ]
    },
    {
      "cell_type": "markdown",
      "metadata": {
        "id": "uSk4YP63TBnD"
      },
      "source": [
        "# Define Model, Loss Function and Optimizer"
      ]
    },
    {
      "cell_type": "code",
      "execution_count": null,
      "metadata": {
        "execution": {
          "iopub.execute_input": "2025-02-02T22:06:52.829049Z",
          "iopub.status.busy": "2025-02-02T22:06:52.828733Z",
          "iopub.status.idle": "2025-02-02T22:06:54.861386Z",
          "shell.execute_reply": "2025-02-02T22:06:54.860629Z",
          "shell.execute_reply.started": "2025-02-02T22:06:52.829015Z"
        },
        "id": "kZgQ7AgyTBnE",
        "trusted": true
      },
      "outputs": [],
      "source": [
        "criterion = torch.nn.CrossEntropyLoss() # Defining Loss function.\n",
        "# We use CE because the task is multi-class classification\n",
        "\n",
        "# Choose an appropriate optimizer of your choice\n",
        "optimizer = torch.optim.AdamW(model.parameters(), lr=config['learning_rate'])\n",
        "\n",
        "# Recommended : Define Scheduler for Learning Rate,\n",
        "# including but not limited to StepLR, MultiStep, CosineAnnealing, CosineAnnealingWithWarmRestarts, ReduceLROnPlateau, etc.\n",
        "# You can refer to Pytorch documentation for more information on how to use them.\n",
        "scheduler = torch.optim.lr_scheduler.ReduceLROnPlateau(optimizer, 'min')\n",
        "\n",
        "# Is your training time very high?\n",
        "# Look into mixed precision training if your GPU (Tesla T4, V100, etc) can make use of it\n",
        "# Refer - https://pytorch.org/docs/stable/notes/amp_examples.html\n",
        "# Mixed Precision Training with AMP for speedup\n",
        "scaler = torch.amp.GradScaler('cuda', enabled=True)"
      ]
    },
    {
      "cell_type": "markdown",
      "metadata": {
        "id": "IBwunYpyugFg"
      },
      "source": [
        "# Training and Validation Functions"
      ]
    },
    {
      "cell_type": "code",
      "execution_count": null,
      "metadata": {
        "colab": {
          "base_uri": "https://localhost:8080/"
        },
        "execution": {
          "iopub.execute_input": "2025-02-02T22:06:54.862555Z",
          "iopub.status.busy": "2025-02-02T22:06:54.862104Z",
          "iopub.status.idle": "2025-02-02T22:06:55.045232Z",
          "shell.execute_reply": "2025-02-02T22:06:55.044065Z",
          "shell.execute_reply.started": "2025-02-02T22:06:54.862531Z"
        },
        "id": "XblOHEVtKab2",
        "outputId": "eeacb8f9-a547-4bff-8194-bfba44a7a4b9",
        "trusted": true
      },
      "outputs": [
        {
          "data": {
            "text/plain": [
              "56"
            ]
          },
          "execution_count": 39,
          "metadata": {},
          "output_type": "execute_result"
        }
      ],
      "source": [
        "# CLEAR RAM!!\n",
        "torch.cuda.empty_cache()\n",
        "gc.collect()"
      ]
    },
    {
      "cell_type": "code",
      "execution_count": null,
      "metadata": {
        "execution": {
          "iopub.execute_input": "2025-02-02T22:06:55.046714Z",
          "iopub.status.busy": "2025-02-02T22:06:55.046366Z",
          "iopub.status.idle": "2025-02-02T22:06:55.063628Z",
          "shell.execute_reply": "2025-02-02T22:06:55.062733Z",
          "shell.execute_reply.started": "2025-02-02T22:06:55.046679Z"
        },
        "id": "8wjPz7DHqKcL",
        "trusted": true
      },
      "outputs": [],
      "source": [
        "def train(model, dataloader, optimizer, criterion):\n",
        "\n",
        "    model.train()\n",
        "    tloss, tacc = 0, 0 # Monitoring loss and accuracy\n",
        "    batch_bar   = tqdm(total=len(train_loader), dynamic_ncols=True, leave=False, position=0, desc='Train')\n",
        "\n",
        "    for i, (frames, phonemes) in enumerate(dataloader):\n",
        "\n",
        "        ### Initialize Gradients\n",
        "        optimizer.zero_grad()\n",
        "\n",
        "        frames      = frames.to(device)\n",
        "        phonemes    = phonemes.to(device)\n",
        "\n",
        "        with torch.autocast(device_type=device, dtype=torch.float16):\n",
        "            ### Forward Propagation\n",
        "            logits  = model(frames)\n",
        "\n",
        "            ### Loss Calculation\n",
        "            loss    = criterion(logits, phonemes)\n",
        "\n",
        "        ### Backward Propagation\n",
        "        scaler.scale(loss).backward()\n",
        "\n",
        "        # OPTIONAL: You can add gradient clipping here, if you face issues of exploding gradients\n",
        "\n",
        "        ### Gradient Descent\n",
        "        scaler.step(optimizer)\n",
        "        scaler.update()\n",
        "\n",
        "        tloss   += loss.item()\n",
        "        tacc    += torch.sum(torch.argmax(logits, dim= 1) == phonemes).item()/logits.shape[0]\n",
        "\n",
        "        batch_bar.set_postfix(loss=\"{:.04f}\".format(float(tloss / (i + 1))),\n",
        "                              acc=\"{:.04f}%\".format(float(tacc*100 / (i + 1))))\n",
        "        batch_bar.update()\n",
        "\n",
        "        ### Release memory\n",
        "        del frames, phonemes, logits\n",
        "        torch.cuda.empty_cache()\n",
        "\n",
        "\n",
        "    batch_bar.close()\n",
        "    tloss   /= len(train_loader)\n",
        "    tacc    /= len(train_loader)\n",
        "\n",
        "\n",
        "    return tloss, tacc"
      ]
    },
    {
      "cell_type": "code",
      "execution_count": null,
      "metadata": {
        "execution": {
          "iopub.execute_input": "2025-02-02T22:06:55.064790Z",
          "iopub.status.busy": "2025-02-02T22:06:55.064502Z",
          "iopub.status.idle": "2025-02-02T22:06:55.081409Z",
          "shell.execute_reply": "2025-02-02T22:06:55.080663Z",
          "shell.execute_reply.started": "2025-02-02T22:06:55.064758Z"
        },
        "id": "Q5npQNFH315V",
        "trusted": true
      },
      "outputs": [],
      "source": [
        "def eval(model, dataloader):\n",
        "\n",
        "    model.eval()\n",
        "    vloss, vacc = 0, 0\n",
        "    batch_bar   = tqdm(total=len(val_loader), dynamic_ncols=True, position=0, leave=False, desc='Val')\n",
        "\n",
        "    for i, (frames, phonemes) in enumerate(dataloader):\n",
        "\n",
        "        frames      = frames.to(device)\n",
        "        phonemes    = phonemes.to(device)\n",
        "\n",
        "        with torch.no_grad():\n",
        "            ### Forward Propagation\n",
        "            logits  = model(frames)\n",
        "            ### Loss Calculation\n",
        "            loss    = criterion(logits, phonemes)\n",
        "\n",
        "        vloss   += loss.item()\n",
        "        vacc    += torch.sum(torch.argmax(logits, dim= 1) == phonemes).item()/logits.shape[0]\n",
        "\n",
        "        batch_bar.set_postfix(loss=\"{:.04f}\".format(float(vloss / (i + 1))),\n",
        "                              acc=\"{:.04f}%\".format(float(vacc*100 / (i + 1))))\n",
        "        batch_bar.update()\n",
        "\n",
        "        ### Release memory\n",
        "        del frames, phonemes, logits\n",
        "        torch.cuda.empty_cache()\n",
        "\n",
        "    batch_bar.close()\n",
        "    vloss   /= len(val_loader)\n",
        "    vacc    /= len(val_loader)\n",
        "\n",
        "    return vloss, vacc"
      ]
    },
    {
      "cell_type": "markdown",
      "metadata": {
        "id": "yMd_XxPku5qp"
      },
      "source": [
        "# Weights and Biases Setup"
      ]
    },
    {
      "cell_type": "code",
      "execution_count": null,
      "metadata": {
        "colab": {
          "base_uri": "https://localhost:8080/"
        },
        "execution": {
          "iopub.execute_input": "2025-02-02T22:06:55.099446Z",
          "iopub.status.busy": "2025-02-02T22:06:55.099076Z",
          "iopub.status.idle": "2025-02-02T22:07:02.244538Z",
          "shell.execute_reply": "2025-02-02T22:07:02.243795Z",
          "shell.execute_reply.started": "2025-02-02T22:06:55.099415Z"
        },
        "id": "SCDYx5VEu6qI",
        "outputId": "5001341d-e5af-4430-962e-f50161ffed7e",
        "trusted": true
      },
      "outputs": [
        {
          "name": "stderr",
          "output_type": "stream",
          "text": [
            "\u001b[34m\u001b[1mwandb\u001b[0m: \u001b[33mWARNING\u001b[0m If you're specifying your api key in code, ensure this code is not shared publicly.\n",
            "\u001b[34m\u001b[1mwandb\u001b[0m: \u001b[33mWARNING\u001b[0m Consider setting the WANDB_API_KEY environment variable, or running `wandb login` from the command line.\n",
            "\u001b[34m\u001b[1mwandb\u001b[0m: Appending key for api.wandb.ai to your netrc file: /root/.netrc\n",
            "\u001b[34m\u001b[1mwandb\u001b[0m: Currently logged in as: \u001b[33mhychia2024\u001b[0m (\u001b[33mhychia2024-carnegie-mellon-university\u001b[0m) to \u001b[32mhttps://api.wandb.ai\u001b[0m. Use \u001b[1m`wandb login --relogin`\u001b[0m to force relogin\n"
          ]
        },
        {
          "data": {
            "text/plain": [
              "True"
            ]
          },
          "execution_count": 42,
          "metadata": {},
          "output_type": "execute_result"
        }
      ],
      "source": [
        "wandb.login(key=\"06a27b50be8dd39b3865d8e90bb7c3248eafc168\") #API Key is in your wandb account, under settings (wandb.ai/settings)"
      ]
    },
    {
      "cell_type": "code",
      "execution_count": null,
      "metadata": {
        "colab": {
          "base_uri": "https://localhost:8080/",
          "height": 123
        },
        "execution": {
          "iopub.execute_input": "2025-02-02T22:07:02.245963Z",
          "iopub.status.busy": "2025-02-02T22:07:02.245486Z",
          "iopub.status.idle": "2025-02-02T22:07:09.003253Z",
          "shell.execute_reply": "2025-02-02T22:07:09.002524Z",
          "shell.execute_reply.started": "2025-02-02T22:07:02.245931Z"
        },
        "id": "xvUnYd3Bw2up",
        "outputId": "c4fdbb2a-c898-4fb5-fde0-7a08d6c2f113",
        "trusted": true
      },
      "outputs": [
        {
          "name": "stderr",
          "output_type": "stream",
          "text": [
            "\u001b[34m\u001b[1mwandb\u001b[0m: Using wandb-core as the SDK backend.  Please refer to https://wandb.me/wandb-core for more information.\n"
          ]
        },
        {
          "data": {
            "text/html": [
              "Tracking run with wandb version 0.19.5"
            ],
            "text/plain": [
              "<IPython.core.display.HTML object>"
            ]
          },
          "metadata": {},
          "output_type": "display_data"
        },
        {
          "data": {
            "text/html": [
              "Run data is saved locally in <code>/content/wandb/run-20250206_185111-2o4jgus4</code>"
            ],
            "text/plain": [
              "<IPython.core.display.HTML object>"
            ]
          },
          "metadata": {},
          "output_type": "display_data"
        },
        {
          "data": {
            "text/html": [
              "Syncing run <strong><a href='https://wandb.ai/hychia2024-carnegie-mellon-university/hw1p2/runs/2o4jgus4' target=\"_blank\">Attempt_5_2</a></strong> to <a href='https://wandb.ai/hychia2024-carnegie-mellon-university/hw1p2' target=\"_blank\">Weights & Biases</a> (<a href='https://wandb.me/developer-guide' target=\"_blank\">docs</a>)<br>"
            ],
            "text/plain": [
              "<IPython.core.display.HTML object>"
            ]
          },
          "metadata": {},
          "output_type": "display_data"
        },
        {
          "data": {
            "text/html": [
              " View project at <a href='https://wandb.ai/hychia2024-carnegie-mellon-university/hw1p2' target=\"_blank\">https://wandb.ai/hychia2024-carnegie-mellon-university/hw1p2</a>"
            ],
            "text/plain": [
              "<IPython.core.display.HTML object>"
            ]
          },
          "metadata": {},
          "output_type": "display_data"
        },
        {
          "data": {
            "text/html": [
              " View run at <a href='https://wandb.ai/hychia2024-carnegie-mellon-university/hw1p2/runs/2o4jgus4' target=\"_blank\">https://wandb.ai/hychia2024-carnegie-mellon-university/hw1p2/runs/2o4jgus4</a>"
            ],
            "text/plain": [
              "<IPython.core.display.HTML object>"
            ]
          },
          "metadata": {},
          "output_type": "display_data"
        }
      ],
      "source": [
        "# Create your wandb run\n",
        "run = wandb.init(\n",
        "    name    = \"Attempt_5_2\", ### Wandb creates random run names if you skip this field, we recommend you give useful names\n",
        "    reinit  = True, ### Allows reinitalizing runs when you re-run this cell\n",
        "    #id     = \"\", ### Insert specific run id here if you want to resume a previous run\n",
        "    #resume = \"must\", ### You need this to resume previous runs, but comment out reinit = True when using this\n",
        "    project = \"hw1p2\", ### Project should be created in your wandb account\n",
        "    config  = config ### Wandb Config for your run\n",
        ")"
      ]
    },
    {
      "cell_type": "code",
      "execution_count": null,
      "metadata": {
        "colab": {
          "base_uri": "https://localhost:8080/"
        },
        "execution": {
          "iopub.execute_input": "2025-02-02T22:07:09.004250Z",
          "iopub.status.busy": "2025-02-02T22:07:09.004019Z",
          "iopub.status.idle": "2025-02-02T22:07:09.011938Z",
          "shell.execute_reply": "2025-02-02T22:07:09.011153Z",
          "shell.execute_reply.started": "2025-02-02T22:07:09.004227Z"
        },
        "id": "wft15E_IxYFi",
        "outputId": "bf35c4c8-b822-409c-e53c-694f327e99d4",
        "trusted": true
      },
      "outputs": [
        {
          "data": {
            "text/plain": [
              "['/content/wandb/run-20250206_185111-2o4jgus4/files/model_arch.txt']"
            ]
          },
          "execution_count": 44,
          "metadata": {},
          "output_type": "execute_result"
        }
      ],
      "source": [
        "### Save your model architecture as a string with str(model)\n",
        "model_arch  = str(model)\n",
        "\n",
        "### Save it in a txt file\n",
        "arch_file   = open(\"model_arch.txt\", \"w\")\n",
        "file_write  = arch_file.write(model_arch)\n",
        "arch_file.close()\n",
        "\n",
        "### log it in your wandb run with wandb.save()\n",
        "wandb.save('model_arch.txt')"
      ]
    },
    {
      "cell_type": "code",
      "execution_count": null,
      "metadata": {
        "colab": {
          "base_uri": "https://localhost:8080/"
        },
        "execution": {
          "iopub.execute_input": "2025-02-02T22:07:09.013036Z",
          "iopub.status.busy": "2025-02-02T22:07:09.012791Z",
          "iopub.status.idle": "2025-02-02T22:07:09.203712Z",
          "shell.execute_reply": "2025-02-02T22:07:09.202704Z",
          "shell.execute_reply.started": "2025-02-02T22:07:09.013003Z"
        },
        "id": "Ap_nI8yLHVf3",
        "outputId": "f7ff84b5-d8f4-4dc3-b56f-4f90c7b49991",
        "trusted": true
      },
      "outputs": [
        {
          "name": "stdout",
          "output_type": "stream",
          "text": [
            "Batch shape: torch.Size([512, 61, 28])\n",
            "3778\n",
            "2384\n",
            "42016\n",
            "\n",
            "Expected shape: (512, 61, 28)\n"
          ]
        }
      ],
      "source": [
        "# # Check test_loader format\n",
        "for batch in test_loader:\n",
        "    print(\"Batch shape:\", batch.shape)\n",
        "    # print(\"Sample values:\", batch[0])  # First item\n",
        "    break\n",
        "print(len(test_loader))\n",
        "print(len(val_loader))\n",
        "print(len(train_loader))\n",
        "# # Check if dimensions match expected (batch_size, context_frames, features)\n",
        "expected_shape = (config['batch_size'], 2*config['context']+1, 28)\n",
        "print(\"\\nExpected shape:\", expected_shape)"
      ]
    },
    {
      "cell_type": "markdown",
      "metadata": {
        "id": "nclx_04fu7Dd"
      },
      "source": [
        "# Experiment"
      ]
    },
    {
      "cell_type": "code",
      "execution_count": null,
      "metadata": {
        "id": "rkNMT4TZfnmx"
      },
      "outputs": [],
      "source": [
        "# Iterate over number of epochs to train and evaluate your model\n",
        "torch.cuda.empty_cache()\n",
        "gc.collect()\n",
        "wandb.watch(model, log=\"all\")\n",
        "\n",
        "for epoch in range(config['epochs']):\n",
        "\n",
        "    print(\"\\nEpoch {}/{}\".format(epoch+1, config['epochs']))\n",
        "\n",
        "    curr_lr                 = float(optimizer.param_groups[0]['lr'])\n",
        "    train_loss, train_acc   = train(model, train_loader, optimizer, criterion)\n",
        "    val_loss, val_acc       = eval(model, val_loader)\n",
        "\n",
        "    print(\"\\tTrain Acc {:.04f}%\\tTrain Loss {:.04f}\\t Learning Rate {:.07f}\".format(train_acc*100, train_loss, curr_lr))\n",
        "    print(\"\\tVal Acc {:.04f}%\\tVal Loss {:.04f}\".format(val_acc*100, val_loss))\n",
        "\n",
        "    ## Log metrics at each epoch in your run\n",
        "    # Optionally, you can log at each batch inside train/eval functions\n",
        "    # (explore wandb documentation/wandb recitation)\n",
        "    wandb.log({'train_acc': train_acc*100, 'train_loss': train_loss,\n",
        "               'val_acc': val_acc*100, 'valid_loss': val_loss, 'lr': curr_lr},step=epoch)\n",
        "\n",
        "    # If using a scheduler, step the learning rate here, otherwise comment this line\n",
        "    # Depending on the scheduler in use, you may or may not need to pass in a metric into the step function, so read the docs well\n",
        "    scheduler.step(val_acc)\n",
        "\n",
        "    torch.save({\n",
        "        'epoch': epoch,\n",
        "        'model_state_dict': model.state_dict(),\n",
        "        'optimizer_state_dict': optimizer.state_dict(),\n",
        "        'val_acc': val_acc\n",
        "    }, f'checkpoint_epoch_{epoch}.pt')\n",
        "    wandb.save(f'checkpoint_epoch_{epoch}.pt')\n",
        "    print(\"Saved checkpoint\")\n",
        "\n",
        "    ## Highly Recommended: Save checkpoint in drive and/or wandb if accuracy is better than your current best"
      ]
    },
    {
      "cell_type": "code",
      "execution_count": null,
      "metadata": {
        "colab": {
          "base_uri": "https://localhost:8080/"
        },
        "id": "Qdi2tw4FlswF",
        "outputId": "0719d7b5-086a-419d-ea96-5bed16f32a39"
      },
      "outputs": [
        {
          "name": "stdout",
          "output_type": "stream",
          "text": [
            "Checkpoint from epoch: 18\n",
            "Validation accuracy: 0.82%\n"
          ]
        },
        {
          "data": {
            "text/plain": [
              "Network(\n",
              "  (model): Sequential(\n",
              "    (0): Linear(in_features=1708, out_features=4096, bias=True)\n",
              "    (1): BatchNorm1d(4096, eps=1e-05, momentum=0.1, affine=True, track_running_stats=True)\n",
              "    (2): ReLU()\n",
              "    (3): Dropout(p=0.3, inplace=False)\n",
              "    (4): Linear(in_features=4096, out_features=2048, bias=True)\n",
              "    (5): BatchNorm1d(2048, eps=1e-05, momentum=0.1, affine=True, track_running_stats=True)\n",
              "    (6): ReLU()\n",
              "    (7): Dropout(p=0.3, inplace=False)\n",
              "    (8): Linear(in_features=2048, out_features=1024, bias=True)\n",
              "    (9): BatchNorm1d(1024, eps=1e-05, momentum=0.1, affine=True, track_running_stats=True)\n",
              "    (10): ReLU()\n",
              "    (11): Dropout(p=0.3, inplace=False)\n",
              "    (12): Linear(in_features=1024, out_features=512, bias=True)\n",
              "    (13): BatchNorm1d(512, eps=1e-05, momentum=0.1, affine=True, track_running_stats=True)\n",
              "    (14): ReLU()\n",
              "    (15): Dropout(p=0.3, inplace=False)\n",
              "    (16): Linear(in_features=512, out_features=256, bias=True)\n",
              "    (17): BatchNorm1d(256, eps=1e-05, momentum=0.1, affine=True, track_running_stats=True)\n",
              "    (18): ReLU()\n",
              "    (19): Dropout(p=0.3, inplace=False)\n",
              "    (20): Linear(in_features=256, out_features=128, bias=True)\n",
              "    (21): BatchNorm1d(128, eps=1e-05, momentum=0.1, affine=True, track_running_stats=True)\n",
              "    (22): ReLU()\n",
              "    (23): Dropout(p=0.3, inplace=False)\n",
              "    (24): Linear(in_features=128, out_features=64, bias=True)\n",
              "    (25): BatchNorm1d(64, eps=1e-05, momentum=0.1, affine=True, track_running_stats=True)\n",
              "    (26): ReLU()\n",
              "    (27): Dropout(p=0.3, inplace=False)\n",
              "    (28): Linear(in_features=64, out_features=42, bias=True)\n",
              "  )\n",
              ")"
            ]
          },
          "execution_count": 46,
          "metadata": {},
          "output_type": "execute_result"
        }
      ],
      "source": [
        "# Load your checkpoint\n",
        "checkpoint_path = '/checkpoint_epoch_18.pt'  # saved path\n",
        "checkpoint = torch.load(checkpoint_path, weights_only=True)\n",
        "\n",
        "# Verify the epoch and accuracy\n",
        "print(f\"Checkpoint from epoch: {checkpoint['epoch']}\")\n",
        "print(f\"Validation accuracy: {checkpoint['val_acc']:.2f}%\")\n",
        "\n",
        "# Load model state\n",
        "model.load_state_dict(checkpoint['model_state_dict'])\n",
        "model.eval()  # Set to evaluation mode"
      ]
    },
    {
      "cell_type": "markdown",
      "metadata": {
        "id": "_kXwf5YUo_4A"
      },
      "source": [
        "# Testing and submission to Kaggle"
      ]
    },
    {
      "cell_type": "code",
      "execution_count": null,
      "metadata": {
        "execution": {
          "execution_failed": "2025-02-02T23:09:46.348Z"
        },
        "id": "RcdWqfN51WS0",
        "trusted": true
      },
      "outputs": [],
      "source": [
        "wandb.init(project=\"hw1p2\", name=\"submit_attempt_5_2\", settings=wandb.Settings(init_timeout=180))\n",
        "\n",
        "test_loader = torch.utils.data.DataLoader(\n",
        "    dataset=test_data,\n",
        "    batch_size=config['batch_size'],\n",
        "    num_workers=0,  # Reduced from 2\n",
        "    pin_memory=True,\n",
        "    shuffle=False\n",
        ")"
      ]
    },
    {
      "cell_type": "code",
      "execution_count": null,
      "metadata": {
        "execution": {
          "execution_failed": "2025-02-02T23:09:46.348Z"
        },
        "id": "ijLrIJFl5dSf",
        "trusted": true
      },
      "outputs": [],
      "source": [
        "def test(model, test_loader):\n",
        "    ### What you call for model to perform inference?\n",
        "    model.eval() # TODO train or eval?\n",
        "\n",
        "    ### List to store predicted phonemes of test data\n",
        "    test_predictions = []\n",
        "\n",
        "    ### Which mode do you need to avoid gradients?\n",
        "    with torch.no_grad(): # TODO\n",
        "\n",
        "        for i, mfccs in enumerate(tqdm(test_loader)):\n",
        "\n",
        "            mfccs   = mfccs.to(device)\n",
        "\n",
        "            logits  = model(mfccs)\n",
        "\n",
        "            ### Get most likely predicted phoneme with argmax\n",
        "            predicted_indices = torch.argmax(logits, dim=1) #Label: The predicted label of the phoneme [0-39] (The Phoneme).\n",
        "\n",
        "            ### How do you store predicted_phonemes with test_predictions? Hint, look at eval\n",
        "            # Remember the phonemes were converted to their corresponding integer indices earlier, and the results of the argmax is a list of the indices of the predicted phonemes.\n",
        "            # So how do you get and store the actual predicted phonemes\n",
        "            # TODO: Store predicted_phonemes\n",
        "            predicted_phonemes = [PHONEMES[idx] for idx in predicted_indices.cpu().numpy()]\n",
        "\n",
        "            test_predictions.extend(predicted_phonemes)\n",
        "\n",
        "    return test_predictions"
      ]
    },
    {
      "cell_type": "code",
      "execution_count": null,
      "metadata": {
        "colab": {
          "base_uri": "https://localhost:8080/",
          "height": 49,
          "referenced_widgets": [
            "1591ef10ed9d44f3a1ca19d5777fc109",
            "33089b34f8394640ba6860e8949fce09",
            "555c3f72ba2946888a69c7ae106f1b93",
            "bef7905c5221402aba7d790ea41f2d79",
            "88541d65f2884563b4191af057481eb2",
            "018d21623301477e893fe10bf94f00b8",
            "a69cf6afeb6b4cf3a63c90a493dccfa1",
            "e32161d67cfc44c38bd71afdffd634be",
            "4482f897060b4d68b2bc9cb8d3740d57",
            "fb9f0cf889fc448a936f15e83cfbf2f6",
            "7940e322d92f4529a9eae42588ae4825"
          ]
        },
        "execution": {
          "execution_failed": "2025-02-02T23:09:46.348Z"
        },
        "id": "wG9v6Xmxu7wp",
        "outputId": "a190ed81-d10b-4676-ceba-5c18c52e7de7",
        "trusted": true
      },
      "outputs": [
        {
          "data": {
            "application/vnd.jupyter.widget-view+json": {
              "model_id": "1591ef10ed9d44f3a1ca19d5777fc109",
              "version_major": 2,
              "version_minor": 0
            },
            "text/plain": [
              "  0%|          | 0/3778 [00:00<?, ?it/s]"
            ]
          },
          "metadata": {},
          "output_type": "display_data"
        }
      ],
      "source": [
        "predictions = test(model, test_loader)"
      ]
    },
    {
      "cell_type": "code",
      "execution_count": null,
      "metadata": {
        "colab": {
          "base_uri": "https://localhost:8080/"
        },
        "execution": {
          "execution_failed": "2025-02-02T23:09:46.348Z"
        },
        "id": "oujzTUfMtrtV",
        "outputId": "919009ae-79ff-42c6-ad76-20111cd5d8c4",
        "trusted": true
      },
      "outputs": [
        {
          "name": "stdout",
          "output_type": "stream",
          "text": [
            "Model in memory: True\n",
            "Data loaders: True True\n",
            "Device: True\n"
          ]
        }
      ],
      "source": [
        "# Check model\n",
        "print(\"Model in memory:\", 'model' in locals() or 'model' in globals())\n",
        "\n",
        "# Check data loaders\n",
        "print(\"Data loaders:\", 'train_loader' in locals(), 'val_loader' in locals())\n",
        "\n",
        "# Check device\n",
        "print(\"Device:\", 'device' in locals())"
      ]
    },
    {
      "cell_type": "code",
      "execution_count": null,
      "metadata": {
        "execution": {
          "execution_failed": "2025-02-02T23:09:46.348Z"
        },
        "id": "_I6AVEY45dSg",
        "trusted": true
      },
      "outputs": [],
      "source": [
        "### Create CSV file with predictions\n",
        "with open(\"./submission.csv\", \"w+\") as f:\n",
        "    f.write(\"id,Label\\n\")\n",
        "    for i in range(len(predictions)):\n",
        "        f.write(\"{},{}\\n\".format(i, predictions[i]))"
      ]
    },
    {
      "cell_type": "code",
      "execution_count": null,
      "metadata": {
        "colab": {
          "base_uri": "https://localhost:8080/",
          "height": 87
        },
        "execution": {
          "execution_failed": "2025-02-02T23:09:46.349Z"
        },
        "id": "6Wf-P25TXU0N",
        "outputId": "69b1feb8-6040-4974-fc90-a43c5896c74a",
        "trusted": true
      },
      "outputs": [
        {
          "data": {
            "text/html": [],
            "text/plain": [
              "<IPython.core.display.HTML object>"
            ]
          },
          "metadata": {},
          "output_type": "display_data"
        },
        {
          "data": {
            "text/html": [
              " View run <strong style=\"color:#cdcd00\">Attempt_5_2</strong> at: <a href='https://wandb.ai/hychia2024-carnegie-mellon-university/hw1p2/runs/2o4jgus4' target=\"_blank\">https://wandb.ai/hychia2024-carnegie-mellon-university/hw1p2/runs/2o4jgus4</a><br> View project at: <a href='https://wandb.ai/hychia2024-carnegie-mellon-university/hw1p2' target=\"_blank\">https://wandb.ai/hychia2024-carnegie-mellon-university/hw1p2</a><br>Synced 5 W&B file(s), 0 media file(s), 0 artifact file(s) and 1 other file(s)"
            ],
            "text/plain": [
              "<IPython.core.display.HTML object>"
            ]
          },
          "metadata": {},
          "output_type": "display_data"
        },
        {
          "data": {
            "text/html": [
              "Find logs at: <code>./wandb/run-20250206_185111-2o4jgus4/logs</code>"
            ],
            "text/plain": [
              "<IPython.core.display.HTML object>"
            ]
          },
          "metadata": {},
          "output_type": "display_data"
        }
      ],
      "source": [
        "### Finish your wandb run\n",
        "run.finish()"
      ]
    },
    {
      "cell_type": "code",
      "execution_count": null,
      "metadata": {
        "colab": {
          "base_uri": "https://localhost:8080/"
        },
        "execution": {
          "execution_failed": "2025-02-02T23:09:46.349Z"
        },
        "id": "OTRR_9hc9OvR",
        "outputId": "c59e75b3-8f94-4140-96bf-8a732d522e17",
        "trusted": true
      },
      "outputs": [
        {
          "name": "stdout",
          "output_type": "stream",
          "text": [
            "Test dataset length: 1934138\n"
          ]
        }
      ],
      "source": [
        "print(f\"Test dataset length: {len(test_data)}\")"
      ]
    },
    {
      "cell_type": "code",
      "execution_count": null,
      "metadata": {
        "colab": {
          "base_uri": "https://localhost:8080/"
        },
        "execution": {
          "execution_failed": "2025-02-02T23:09:46.349Z"
        },
        "id": "LjcammuCxMKN",
        "outputId": "fd608ab9-f985-4814-e448-2537e94b6b2f",
        "trusted": true
      },
      "outputs": [
        {
          "name": "stdout",
          "output_type": "stream",
          "text": [
            "100% 19.3M/19.3M [00:00<00:00, 22.4MB/s]\n",
            "Successfully submitted to 11785_Spring25_HW1P2"
          ]
        }
      ],
      "source": [
        "### Submit to kaggle competition using kaggle API (Uncomment below to use)\n",
        "!kaggle competitions submit -c 11785-spring-25-hw-1-p-2 -f /content/submission.csv -m \"Submission_attempt_5_2\"\n",
        "\n",
        "### However, its always safer to download the csv file and then upload to kaggle"
      ]
    }
  ],
  "metadata": {
    "accelerator": "GPU",
    "colab": {
      "gpuType": "A100",
      "machine_shape": "hm",
      "provenance": []
    },
    "kaggle": {
      "accelerator": "gpu",
      "dataSources": [
        {
          "databundleVersionId": 8695879,
          "sourceId": 80670,
          "sourceType": "competition"
        },
        {
          "databundleVersionId": 10829548,
          "sourceId": 90913,
          "sourceType": "competition"
        },
        {
          "datasetId": 6404483,
          "sourceId": 10342457,
          "sourceType": "datasetVersion"
        }
      ],
      "dockerImageVersionId": 30839,
      "isGpuEnabled": true,
      "isInternetEnabled": true,
      "language": "python",
      "sourceType": "notebook"
    },
    "kernelspec": {
      "display_name": "Python 3",
      "language": "python",
      "name": "python3"
    },
    "language_info": {
      "codemirror_mode": {
        "name": "ipython",
        "version": 3
      },
      "file_extension": ".py",
      "mimetype": "text/x-python",
      "name": "python",
      "nbconvert_exporter": "python",
      "pygments_lexer": "ipython3",
      "version": "3.10.12"
    },
    "vscode": {
      "interpreter": {
        "hash": "b0fa6594d8f4cbf19f97940f81e996739fb7646882a419484c72d19e05852a7e"
      }
    },
    "widgets": {
      "application/vnd.jupyter.widget-state+json": {
        "018d21623301477e893fe10bf94f00b8": {
          "model_module": "@jupyter-widgets/base",
          "model_module_version": "1.2.0",
          "model_name": "LayoutModel",
          "state": {
            "_model_module": "@jupyter-widgets/base",
            "_model_module_version": "1.2.0",
            "_model_name": "LayoutModel",
            "_view_count": null,
            "_view_module": "@jupyter-widgets/base",
            "_view_module_version": "1.2.0",
            "_view_name": "LayoutView",
            "align_content": null,
            "align_items": null,
            "align_self": null,
            "border": null,
            "bottom": null,
            "display": null,
            "flex": null,
            "flex_flow": null,
            "grid_area": null,
            "grid_auto_columns": null,
            "grid_auto_flow": null,
            "grid_auto_rows": null,
            "grid_column": null,
            "grid_gap": null,
            "grid_row": null,
            "grid_template_areas": null,
            "grid_template_columns": null,
            "grid_template_rows": null,
            "height": null,
            "justify_content": null,
            "justify_items": null,
            "left": null,
            "margin": null,
            "max_height": null,
            "max_width": null,
            "min_height": null,
            "min_width": null,
            "object_fit": null,
            "object_position": null,
            "order": null,
            "overflow": null,
            "overflow_x": null,
            "overflow_y": null,
            "padding": null,
            "right": null,
            "top": null,
            "visibility": null,
            "width": null
          }
        },
        "0e00ae391eaf40c9b0e0a9f875783ab8": {
          "model_module": "@jupyter-widgets/controls",
          "model_module_version": "1.5.0",
          "model_name": "FloatProgressModel",
          "state": {
            "_dom_classes": [],
            "_model_module": "@jupyter-widgets/controls",
            "_model_module_version": "1.5.0",
            "_model_name": "FloatProgressModel",
            "_view_count": null,
            "_view_module": "@jupyter-widgets/controls",
            "_view_module_version": "1.5.0",
            "_view_name": "ProgressView",
            "bar_style": "success",
            "description": "",
            "description_tooltip": null,
            "layout": "IPY_MODEL_c321ec7a479d4f3d910353ec0c281f61",
            "max": 1621,
            "min": 0,
            "orientation": "horizontal",
            "style": "IPY_MODEL_104b3ddefeb54bae9195bdf5d9d96a97",
            "value": 1621
          }
        },
        "104b3ddefeb54bae9195bdf5d9d96a97": {
          "model_module": "@jupyter-widgets/controls",
          "model_module_version": "1.5.0",
          "model_name": "ProgressStyleModel",
          "state": {
            "_model_module": "@jupyter-widgets/controls",
            "_model_module_version": "1.5.0",
            "_model_name": "ProgressStyleModel",
            "_view_count": null,
            "_view_module": "@jupyter-widgets/base",
            "_view_module_version": "1.2.0",
            "_view_name": "StyleView",
            "bar_color": null,
            "description_width": ""
          }
        },
        "1591ef10ed9d44f3a1ca19d5777fc109": {
          "model_module": "@jupyter-widgets/controls",
          "model_module_version": "1.5.0",
          "model_name": "HBoxModel",
          "state": {
            "_dom_classes": [],
            "_model_module": "@jupyter-widgets/controls",
            "_model_module_version": "1.5.0",
            "_model_name": "HBoxModel",
            "_view_count": null,
            "_view_module": "@jupyter-widgets/controls",
            "_view_module_version": "1.5.0",
            "_view_name": "HBoxView",
            "box_style": "",
            "children": [
              "IPY_MODEL_33089b34f8394640ba6860e8949fce09",
              "IPY_MODEL_555c3f72ba2946888a69c7ae106f1b93",
              "IPY_MODEL_bef7905c5221402aba7d790ea41f2d79"
            ],
            "layout": "IPY_MODEL_88541d65f2884563b4191af057481eb2"
          }
        },
        "21e0aa6c712a42dda74ca2b021169acc": {
          "model_module": "@jupyter-widgets/controls",
          "model_module_version": "1.5.0",
          "model_name": "FloatProgressModel",
          "state": {
            "_dom_classes": [],
            "_model_module": "@jupyter-widgets/controls",
            "_model_module_version": "1.5.0",
            "_model_name": "FloatProgressModel",
            "_view_count": null,
            "_view_module": "@jupyter-widgets/controls",
            "_view_module_version": "1.5.0",
            "_view_name": "ProgressView",
            "bar_style": "success",
            "description": "",
            "description_tooltip": null,
            "layout": "IPY_MODEL_6e6870d9d4744805a9ba3105cdd483b8",
            "max": 2620,
            "min": 0,
            "orientation": "horizontal",
            "style": "IPY_MODEL_6db150abc07b47b5997e9bb2b6107b76",
            "value": 2620
          }
        },
        "221098ab2b834053baca92e50a6b883a": {
          "model_module": "@jupyter-widgets/controls",
          "model_module_version": "1.5.0",
          "model_name": "DescriptionStyleModel",
          "state": {
            "_model_module": "@jupyter-widgets/controls",
            "_model_module_version": "1.5.0",
            "_model_name": "DescriptionStyleModel",
            "_view_count": null,
            "_view_module": "@jupyter-widgets/base",
            "_view_module_version": "1.2.0",
            "_view_name": "StyleView",
            "description_width": ""
          }
        },
        "33089b34f8394640ba6860e8949fce09": {
          "model_module": "@jupyter-widgets/controls",
          "model_module_version": "1.5.0",
          "model_name": "HTMLModel",
          "state": {
            "_dom_classes": [],
            "_model_module": "@jupyter-widgets/controls",
            "_model_module_version": "1.5.0",
            "_model_name": "HTMLModel",
            "_view_count": null,
            "_view_module": "@jupyter-widgets/controls",
            "_view_module_version": "1.5.0",
            "_view_name": "HTMLView",
            "description": "",
            "description_tooltip": null,
            "layout": "IPY_MODEL_018d21623301477e893fe10bf94f00b8",
            "placeholder": "​",
            "style": "IPY_MODEL_a69cf6afeb6b4cf3a63c90a493dccfa1",
            "value": "100%"
          }
        },
        "38f7a47cc1704a36998589cde51e1f6a": {
          "model_module": "@jupyter-widgets/controls",
          "model_module_version": "1.5.0",
          "model_name": "HTMLModel",
          "state": {
            "_dom_classes": [],
            "_model_module": "@jupyter-widgets/controls",
            "_model_module_version": "1.5.0",
            "_model_name": "HTMLModel",
            "_view_count": null,
            "_view_module": "@jupyter-widgets/controls",
            "_view_module_version": "1.5.0",
            "_view_name": "HTMLView",
            "description": "",
            "description_tooltip": null,
            "layout": "IPY_MODEL_4c81a90da8a542efa989ff9039428c87",
            "placeholder": "​",
            "style": "IPY_MODEL_cfb447773d9f4499b5c59ec5a0f0ee5a",
            "value": "100%"
          }
        },
        "39a8314c42824d598c193e6c15542e92": {
          "model_module": "@jupyter-widgets/controls",
          "model_module_version": "1.5.0",
          "model_name": "HTMLModel",
          "state": {
            "_dom_classes": [],
            "_model_module": "@jupyter-widgets/controls",
            "_model_module_version": "1.5.0",
            "_model_name": "HTMLModel",
            "_view_count": null,
            "_view_module": "@jupyter-widgets/controls",
            "_view_module_version": "1.5.0",
            "_view_name": "HTMLView",
            "description": "",
            "description_tooltip": null,
            "layout": "IPY_MODEL_bd5fb586e01b43ae9b579a623fbfaab6",
            "placeholder": "​",
            "style": "IPY_MODEL_c5a6d1b6f7464d858c54b643ad6b67fc",
            "value": "100%"
          }
        },
        "4482f897060b4d68b2bc9cb8d3740d57": {
          "model_module": "@jupyter-widgets/controls",
          "model_module_version": "1.5.0",
          "model_name": "ProgressStyleModel",
          "state": {
            "_model_module": "@jupyter-widgets/controls",
            "_model_module_version": "1.5.0",
            "_model_name": "ProgressStyleModel",
            "_view_count": null,
            "_view_module": "@jupyter-widgets/base",
            "_view_module_version": "1.2.0",
            "_view_name": "StyleView",
            "bar_color": null,
            "description_width": ""
          }
        },
        "47037d728f414edf989885cc12974204": {
          "model_module": "@jupyter-widgets/controls",
          "model_module_version": "1.5.0",
          "model_name": "ProgressStyleModel",
          "state": {
            "_model_module": "@jupyter-widgets/controls",
            "_model_module_version": "1.5.0",
            "_model_name": "ProgressStyleModel",
            "_view_count": null,
            "_view_module": "@jupyter-widgets/base",
            "_view_module_version": "1.2.0",
            "_view_name": "StyleView",
            "bar_color": null,
            "description_width": ""
          }
        },
        "4c81a90da8a542efa989ff9039428c87": {
          "model_module": "@jupyter-widgets/base",
          "model_module_version": "1.2.0",
          "model_name": "LayoutModel",
          "state": {
            "_model_module": "@jupyter-widgets/base",
            "_model_module_version": "1.2.0",
            "_model_name": "LayoutModel",
            "_view_count": null,
            "_view_module": "@jupyter-widgets/base",
            "_view_module_version": "1.2.0",
            "_view_name": "LayoutView",
            "align_content": null,
            "align_items": null,
            "align_self": null,
            "border": null,
            "bottom": null,
            "display": null,
            "flex": null,
            "flex_flow": null,
            "grid_area": null,
            "grid_auto_columns": null,
            "grid_auto_flow": null,
            "grid_auto_rows": null,
            "grid_column": null,
            "grid_gap": null,
            "grid_row": null,
            "grid_template_areas": null,
            "grid_template_columns": null,
            "grid_template_rows": null,
            "height": null,
            "justify_content": null,
            "justify_items": null,
            "left": null,
            "margin": null,
            "max_height": null,
            "max_width": null,
            "min_height": null,
            "min_width": null,
            "object_fit": null,
            "object_position": null,
            "order": null,
            "overflow": null,
            "overflow_x": null,
            "overflow_y": null,
            "padding": null,
            "right": null,
            "top": null,
            "visibility": null,
            "width": null
          }
        },
        "4c8ef1702d944a9cba131afb36099a60": {
          "model_module": "@jupyter-widgets/controls",
          "model_module_version": "1.5.0",
          "model_name": "HBoxModel",
          "state": {
            "_dom_classes": [],
            "_model_module": "@jupyter-widgets/controls",
            "_model_module_version": "1.5.0",
            "_model_name": "HBoxModel",
            "_view_count": null,
            "_view_module": "@jupyter-widgets/controls",
            "_view_module_version": "1.5.0",
            "_view_name": "HBoxView",
            "box_style": "",
            "children": [
              "IPY_MODEL_39a8314c42824d598c193e6c15542e92",
              "IPY_MODEL_21e0aa6c712a42dda74ca2b021169acc",
              "IPY_MODEL_52282d94f937442c8949aedca2f2897c"
            ],
            "layout": "IPY_MODEL_df4f2ba01aea430ab72f7fec722adfc3"
          }
        },
        "517e4015cbcf460f8d7fc9b2e2462a0b": {
          "model_module": "@jupyter-widgets/controls",
          "model_module_version": "1.5.0",
          "model_name": "HTMLModel",
          "state": {
            "_dom_classes": [],
            "_model_module": "@jupyter-widgets/controls",
            "_model_module_version": "1.5.0",
            "_model_name": "HTMLModel",
            "_view_count": null,
            "_view_module": "@jupyter-widgets/controls",
            "_view_module_version": "1.5.0",
            "_view_name": "HTMLView",
            "description": "",
            "description_tooltip": null,
            "layout": "IPY_MODEL_e561cadccca9412fa25ee1b2b9d895d3",
            "placeholder": "​",
            "style": "IPY_MODEL_91482b39c918441180d535d3b5d97213",
            "value": " 1621/1621 [00:01&lt;00:00, 922.39it/s]"
          }
        },
        "52282d94f937442c8949aedca2f2897c": {
          "model_module": "@jupyter-widgets/controls",
          "model_module_version": "1.5.0",
          "model_name": "HTMLModel",
          "state": {
            "_dom_classes": [],
            "_model_module": "@jupyter-widgets/controls",
            "_model_module_version": "1.5.0",
            "_model_name": "HTMLModel",
            "_view_count": null,
            "_view_module": "@jupyter-widgets/controls",
            "_view_module_version": "1.5.0",
            "_view_name": "HTMLView",
            "description": "",
            "description_tooltip": null,
            "layout": "IPY_MODEL_dcda7e295d88418a9725aedc3e5eba8a",
            "placeholder": "​",
            "style": "IPY_MODEL_da90202da8ea4acaa809f9b72f437196",
            "value": " 2620/2620 [00:00&lt;00:00, 3176.03it/s]"
          }
        },
        "555c3f72ba2946888a69c7ae106f1b93": {
          "model_module": "@jupyter-widgets/controls",
          "model_module_version": "1.5.0",
          "model_name": "FloatProgressModel",
          "state": {
            "_dom_classes": [],
            "_model_module": "@jupyter-widgets/controls",
            "_model_module_version": "1.5.0",
            "_model_name": "FloatProgressModel",
            "_view_count": null,
            "_view_module": "@jupyter-widgets/controls",
            "_view_module_version": "1.5.0",
            "_view_name": "ProgressView",
            "bar_style": "success",
            "description": "",
            "description_tooltip": null,
            "layout": "IPY_MODEL_e32161d67cfc44c38bd71afdffd634be",
            "max": 3778,
            "min": 0,
            "orientation": "horizontal",
            "style": "IPY_MODEL_4482f897060b4d68b2bc9cb8d3740d57",
            "value": 3778
          }
        },
        "6773e93216e44ec5819274fa6f43d2f9": {
          "model_module": "@jupyter-widgets/base",
          "model_module_version": "1.2.0",
          "model_name": "LayoutModel",
          "state": {
            "_model_module": "@jupyter-widgets/base",
            "_model_module_version": "1.2.0",
            "_model_name": "LayoutModel",
            "_view_count": null,
            "_view_module": "@jupyter-widgets/base",
            "_view_module_version": "1.2.0",
            "_view_name": "LayoutView",
            "align_content": null,
            "align_items": null,
            "align_self": null,
            "border": null,
            "bottom": null,
            "display": null,
            "flex": null,
            "flex_flow": null,
            "grid_area": null,
            "grid_auto_columns": null,
            "grid_auto_flow": null,
            "grid_auto_rows": null,
            "grid_column": null,
            "grid_gap": null,
            "grid_row": null,
            "grid_template_areas": null,
            "grid_template_columns": null,
            "grid_template_rows": null,
            "height": null,
            "justify_content": null,
            "justify_items": null,
            "left": null,
            "margin": null,
            "max_height": null,
            "max_width": null,
            "min_height": null,
            "min_width": null,
            "object_fit": null,
            "object_position": null,
            "order": null,
            "overflow": null,
            "overflow_x": null,
            "overflow_y": null,
            "padding": null,
            "right": null,
            "top": null,
            "visibility": null,
            "width": null
          }
        },
        "6db150abc07b47b5997e9bb2b6107b76": {
          "model_module": "@jupyter-widgets/controls",
          "model_module_version": "1.5.0",
          "model_name": "ProgressStyleModel",
          "state": {
            "_model_module": "@jupyter-widgets/controls",
            "_model_module_version": "1.5.0",
            "_model_name": "ProgressStyleModel",
            "_view_count": null,
            "_view_module": "@jupyter-widgets/base",
            "_view_module_version": "1.2.0",
            "_view_name": "StyleView",
            "bar_color": null,
            "description_width": ""
          }
        },
        "6e6870d9d4744805a9ba3105cdd483b8": {
          "model_module": "@jupyter-widgets/base",
          "model_module_version": "1.2.0",
          "model_name": "LayoutModel",
          "state": {
            "_model_module": "@jupyter-widgets/base",
            "_model_module_version": "1.2.0",
            "_model_name": "LayoutModel",
            "_view_count": null,
            "_view_module": "@jupyter-widgets/base",
            "_view_module_version": "1.2.0",
            "_view_name": "LayoutView",
            "align_content": null,
            "align_items": null,
            "align_self": null,
            "border": null,
            "bottom": null,
            "display": null,
            "flex": null,
            "flex_flow": null,
            "grid_area": null,
            "grid_auto_columns": null,
            "grid_auto_flow": null,
            "grid_auto_rows": null,
            "grid_column": null,
            "grid_gap": null,
            "grid_row": null,
            "grid_template_areas": null,
            "grid_template_columns": null,
            "grid_template_rows": null,
            "height": null,
            "justify_content": null,
            "justify_items": null,
            "left": null,
            "margin": null,
            "max_height": null,
            "max_width": null,
            "min_height": null,
            "min_width": null,
            "object_fit": null,
            "object_position": null,
            "order": null,
            "overflow": null,
            "overflow_x": null,
            "overflow_y": null,
            "padding": null,
            "right": null,
            "top": null,
            "visibility": null,
            "width": null
          }
        },
        "7940e322d92f4529a9eae42588ae4825": {
          "model_module": "@jupyter-widgets/controls",
          "model_module_version": "1.5.0",
          "model_name": "DescriptionStyleModel",
          "state": {
            "_model_module": "@jupyter-widgets/controls",
            "_model_module_version": "1.5.0",
            "_model_name": "DescriptionStyleModel",
            "_view_count": null,
            "_view_module": "@jupyter-widgets/base",
            "_view_module_version": "1.2.0",
            "_view_name": "StyleView",
            "description_width": ""
          }
        },
        "7ee63388706b4472a194a6b7502a8028": {
          "model_module": "@jupyter-widgets/controls",
          "model_module_version": "1.5.0",
          "model_name": "DescriptionStyleModel",
          "state": {
            "_model_module": "@jupyter-widgets/controls",
            "_model_module_version": "1.5.0",
            "_model_name": "DescriptionStyleModel",
            "_view_count": null,
            "_view_module": "@jupyter-widgets/base",
            "_view_module_version": "1.2.0",
            "_view_name": "StyleView",
            "description_width": ""
          }
        },
        "88541d65f2884563b4191af057481eb2": {
          "model_module": "@jupyter-widgets/base",
          "model_module_version": "1.2.0",
          "model_name": "LayoutModel",
          "state": {
            "_model_module": "@jupyter-widgets/base",
            "_model_module_version": "1.2.0",
            "_model_name": "LayoutModel",
            "_view_count": null,
            "_view_module": "@jupyter-widgets/base",
            "_view_module_version": "1.2.0",
            "_view_name": "LayoutView",
            "align_content": null,
            "align_items": null,
            "align_self": null,
            "border": null,
            "bottom": null,
            "display": null,
            "flex": null,
            "flex_flow": null,
            "grid_area": null,
            "grid_auto_columns": null,
            "grid_auto_flow": null,
            "grid_auto_rows": null,
            "grid_column": null,
            "grid_gap": null,
            "grid_row": null,
            "grid_template_areas": null,
            "grid_template_columns": null,
            "grid_template_rows": null,
            "height": null,
            "justify_content": null,
            "justify_items": null,
            "left": null,
            "margin": null,
            "max_height": null,
            "max_width": null,
            "min_height": null,
            "min_width": null,
            "object_fit": null,
            "object_position": null,
            "order": null,
            "overflow": null,
            "overflow_x": null,
            "overflow_y": null,
            "padding": null,
            "right": null,
            "top": null,
            "visibility": null,
            "width": null
          }
        },
        "91482b39c918441180d535d3b5d97213": {
          "model_module": "@jupyter-widgets/controls",
          "model_module_version": "1.5.0",
          "model_name": "DescriptionStyleModel",
          "state": {
            "_model_module": "@jupyter-widgets/controls",
            "_model_module_version": "1.5.0",
            "_model_name": "DescriptionStyleModel",
            "_view_count": null,
            "_view_module": "@jupyter-widgets/base",
            "_view_module_version": "1.2.0",
            "_view_name": "StyleView",
            "description_width": ""
          }
        },
        "93c90f419ced4d56b8795dd4a6950fe9": {
          "model_module": "@jupyter-widgets/controls",
          "model_module_version": "1.5.0",
          "model_name": "HBoxModel",
          "state": {
            "_dom_classes": [],
            "_model_module": "@jupyter-widgets/controls",
            "_model_module_version": "1.5.0",
            "_model_name": "HBoxModel",
            "_view_count": null,
            "_view_module": "@jupyter-widgets/controls",
            "_view_module_version": "1.5.0",
            "_view_name": "HBoxView",
            "box_style": "",
            "children": [
              "IPY_MODEL_f68690faf78740669d2d910a877446bb",
              "IPY_MODEL_0e00ae391eaf40c9b0e0a9f875783ab8",
              "IPY_MODEL_517e4015cbcf460f8d7fc9b2e2462a0b"
            ],
            "layout": "IPY_MODEL_952770f99abb4a898d78e3c18f947113"
          }
        },
        "952770f99abb4a898d78e3c18f947113": {
          "model_module": "@jupyter-widgets/base",
          "model_module_version": "1.2.0",
          "model_name": "LayoutModel",
          "state": {
            "_model_module": "@jupyter-widgets/base",
            "_model_module_version": "1.2.0",
            "_model_name": "LayoutModel",
            "_view_count": null,
            "_view_module": "@jupyter-widgets/base",
            "_view_module_version": "1.2.0",
            "_view_name": "LayoutView",
            "align_content": null,
            "align_items": null,
            "align_self": null,
            "border": null,
            "bottom": null,
            "display": null,
            "flex": null,
            "flex_flow": null,
            "grid_area": null,
            "grid_auto_columns": null,
            "grid_auto_flow": null,
            "grid_auto_rows": null,
            "grid_column": null,
            "grid_gap": null,
            "grid_row": null,
            "grid_template_areas": null,
            "grid_template_columns": null,
            "grid_template_rows": null,
            "height": null,
            "justify_content": null,
            "justify_items": null,
            "left": null,
            "margin": null,
            "max_height": null,
            "max_width": null,
            "min_height": null,
            "min_width": null,
            "object_fit": null,
            "object_position": null,
            "order": null,
            "overflow": null,
            "overflow_x": null,
            "overflow_y": null,
            "padding": null,
            "right": null,
            "top": null,
            "visibility": null,
            "width": null
          }
        },
        "a69cf6afeb6b4cf3a63c90a493dccfa1": {
          "model_module": "@jupyter-widgets/controls",
          "model_module_version": "1.5.0",
          "model_name": "DescriptionStyleModel",
          "state": {
            "_model_module": "@jupyter-widgets/controls",
            "_model_module_version": "1.5.0",
            "_model_name": "DescriptionStyleModel",
            "_view_count": null,
            "_view_module": "@jupyter-widgets/base",
            "_view_module_version": "1.2.0",
            "_view_name": "StyleView",
            "description_width": ""
          }
        },
        "a906cc4fc3c34e2fba460165072987a2": {
          "model_module": "@jupyter-widgets/controls",
          "model_module_version": "1.5.0",
          "model_name": "HTMLModel",
          "state": {
            "_dom_classes": [],
            "_model_module": "@jupyter-widgets/controls",
            "_model_module_version": "1.5.0",
            "_model_name": "HTMLModel",
            "_view_count": null,
            "_view_module": "@jupyter-widgets/controls",
            "_view_module_version": "1.5.0",
            "_view_name": "HTMLView",
            "description": "",
            "description_tooltip": null,
            "layout": "IPY_MODEL_6773e93216e44ec5819274fa6f43d2f9",
            "placeholder": "​",
            "style": "IPY_MODEL_7ee63388706b4472a194a6b7502a8028",
            "value": " 17123/17123 [00:27&lt;00:00, 682.80it/s]"
          }
        },
        "b3ad13a7630f477b9d312a03838c1419": {
          "model_module": "@jupyter-widgets/controls",
          "model_module_version": "1.5.0",
          "model_name": "FloatProgressModel",
          "state": {
            "_dom_classes": [],
            "_model_module": "@jupyter-widgets/controls",
            "_model_module_version": "1.5.0",
            "_model_name": "FloatProgressModel",
            "_view_count": null,
            "_view_module": "@jupyter-widgets/controls",
            "_view_module_version": "1.5.0",
            "_view_name": "ProgressView",
            "bar_style": "success",
            "description": "",
            "description_tooltip": null,
            "layout": "IPY_MODEL_bab346e649c44bf5a58bd27e821f1952",
            "max": 17123,
            "min": 0,
            "orientation": "horizontal",
            "style": "IPY_MODEL_47037d728f414edf989885cc12974204",
            "value": 17123
          }
        },
        "bab346e649c44bf5a58bd27e821f1952": {
          "model_module": "@jupyter-widgets/base",
          "model_module_version": "1.2.0",
          "model_name": "LayoutModel",
          "state": {
            "_model_module": "@jupyter-widgets/base",
            "_model_module_version": "1.2.0",
            "_model_name": "LayoutModel",
            "_view_count": null,
            "_view_module": "@jupyter-widgets/base",
            "_view_module_version": "1.2.0",
            "_view_name": "LayoutView",
            "align_content": null,
            "align_items": null,
            "align_self": null,
            "border": null,
            "bottom": null,
            "display": null,
            "flex": null,
            "flex_flow": null,
            "grid_area": null,
            "grid_auto_columns": null,
            "grid_auto_flow": null,
            "grid_auto_rows": null,
            "grid_column": null,
            "grid_gap": null,
            "grid_row": null,
            "grid_template_areas": null,
            "grid_template_columns": null,
            "grid_template_rows": null,
            "height": null,
            "justify_content": null,
            "justify_items": null,
            "left": null,
            "margin": null,
            "max_height": null,
            "max_width": null,
            "min_height": null,
            "min_width": null,
            "object_fit": null,
            "object_position": null,
            "order": null,
            "overflow": null,
            "overflow_x": null,
            "overflow_y": null,
            "padding": null,
            "right": null,
            "top": null,
            "visibility": null,
            "width": null
          }
        },
        "bd5fb586e01b43ae9b579a623fbfaab6": {
          "model_module": "@jupyter-widgets/base",
          "model_module_version": "1.2.0",
          "model_name": "LayoutModel",
          "state": {
            "_model_module": "@jupyter-widgets/base",
            "_model_module_version": "1.2.0",
            "_model_name": "LayoutModel",
            "_view_count": null,
            "_view_module": "@jupyter-widgets/base",
            "_view_module_version": "1.2.0",
            "_view_name": "LayoutView",
            "align_content": null,
            "align_items": null,
            "align_self": null,
            "border": null,
            "bottom": null,
            "display": null,
            "flex": null,
            "flex_flow": null,
            "grid_area": null,
            "grid_auto_columns": null,
            "grid_auto_flow": null,
            "grid_auto_rows": null,
            "grid_column": null,
            "grid_gap": null,
            "grid_row": null,
            "grid_template_areas": null,
            "grid_template_columns": null,
            "grid_template_rows": null,
            "height": null,
            "justify_content": null,
            "justify_items": null,
            "left": null,
            "margin": null,
            "max_height": null,
            "max_width": null,
            "min_height": null,
            "min_width": null,
            "object_fit": null,
            "object_position": null,
            "order": null,
            "overflow": null,
            "overflow_x": null,
            "overflow_y": null,
            "padding": null,
            "right": null,
            "top": null,
            "visibility": null,
            "width": null
          }
        },
        "bef7905c5221402aba7d790ea41f2d79": {
          "model_module": "@jupyter-widgets/controls",
          "model_module_version": "1.5.0",
          "model_name": "HTMLModel",
          "state": {
            "_dom_classes": [],
            "_model_module": "@jupyter-widgets/controls",
            "_model_module_version": "1.5.0",
            "_model_name": "HTMLModel",
            "_view_count": null,
            "_view_module": "@jupyter-widgets/controls",
            "_view_module_version": "1.5.0",
            "_view_name": "HTMLView",
            "description": "",
            "description_tooltip": null,
            "layout": "IPY_MODEL_fb9f0cf889fc448a936f15e83cfbf2f6",
            "placeholder": "​",
            "style": "IPY_MODEL_7940e322d92f4529a9eae42588ae4825",
            "value": " 3778/3778 [00:16&lt;00:00, 234.03it/s]"
          }
        },
        "c321ec7a479d4f3d910353ec0c281f61": {
          "model_module": "@jupyter-widgets/base",
          "model_module_version": "1.2.0",
          "model_name": "LayoutModel",
          "state": {
            "_model_module": "@jupyter-widgets/base",
            "_model_module_version": "1.2.0",
            "_model_name": "LayoutModel",
            "_view_count": null,
            "_view_module": "@jupyter-widgets/base",
            "_view_module_version": "1.2.0",
            "_view_name": "LayoutView",
            "align_content": null,
            "align_items": null,
            "align_self": null,
            "border": null,
            "bottom": null,
            "display": null,
            "flex": null,
            "flex_flow": null,
            "grid_area": null,
            "grid_auto_columns": null,
            "grid_auto_flow": null,
            "grid_auto_rows": null,
            "grid_column": null,
            "grid_gap": null,
            "grid_row": null,
            "grid_template_areas": null,
            "grid_template_columns": null,
            "grid_template_rows": null,
            "height": null,
            "justify_content": null,
            "justify_items": null,
            "left": null,
            "margin": null,
            "max_height": null,
            "max_width": null,
            "min_height": null,
            "min_width": null,
            "object_fit": null,
            "object_position": null,
            "order": null,
            "overflow": null,
            "overflow_x": null,
            "overflow_y": null,
            "padding": null,
            "right": null,
            "top": null,
            "visibility": null,
            "width": null
          }
        },
        "c45137933f8d430f9d32976ecd8fb58f": {
          "model_module": "@jupyter-widgets/base",
          "model_module_version": "1.2.0",
          "model_name": "LayoutModel",
          "state": {
            "_model_module": "@jupyter-widgets/base",
            "_model_module_version": "1.2.0",
            "_model_name": "LayoutModel",
            "_view_count": null,
            "_view_module": "@jupyter-widgets/base",
            "_view_module_version": "1.2.0",
            "_view_name": "LayoutView",
            "align_content": null,
            "align_items": null,
            "align_self": null,
            "border": null,
            "bottom": null,
            "display": null,
            "flex": null,
            "flex_flow": null,
            "grid_area": null,
            "grid_auto_columns": null,
            "grid_auto_flow": null,
            "grid_auto_rows": null,
            "grid_column": null,
            "grid_gap": null,
            "grid_row": null,
            "grid_template_areas": null,
            "grid_template_columns": null,
            "grid_template_rows": null,
            "height": null,
            "justify_content": null,
            "justify_items": null,
            "left": null,
            "margin": null,
            "max_height": null,
            "max_width": null,
            "min_height": null,
            "min_width": null,
            "object_fit": null,
            "object_position": null,
            "order": null,
            "overflow": null,
            "overflow_x": null,
            "overflow_y": null,
            "padding": null,
            "right": null,
            "top": null,
            "visibility": null,
            "width": null
          }
        },
        "c5a6d1b6f7464d858c54b643ad6b67fc": {
          "model_module": "@jupyter-widgets/controls",
          "model_module_version": "1.5.0",
          "model_name": "DescriptionStyleModel",
          "state": {
            "_model_module": "@jupyter-widgets/controls",
            "_model_module_version": "1.5.0",
            "_model_name": "DescriptionStyleModel",
            "_view_count": null,
            "_view_module": "@jupyter-widgets/base",
            "_view_module_version": "1.2.0",
            "_view_name": "StyleView",
            "description_width": ""
          }
        },
        "ca52be2639124488a0668d5e0466d608": {
          "model_module": "@jupyter-widgets/base",
          "model_module_version": "1.2.0",
          "model_name": "LayoutModel",
          "state": {
            "_model_module": "@jupyter-widgets/base",
            "_model_module_version": "1.2.0",
            "_model_name": "LayoutModel",
            "_view_count": null,
            "_view_module": "@jupyter-widgets/base",
            "_view_module_version": "1.2.0",
            "_view_name": "LayoutView",
            "align_content": null,
            "align_items": null,
            "align_self": null,
            "border": null,
            "bottom": null,
            "display": null,
            "flex": null,
            "flex_flow": null,
            "grid_area": null,
            "grid_auto_columns": null,
            "grid_auto_flow": null,
            "grid_auto_rows": null,
            "grid_column": null,
            "grid_gap": null,
            "grid_row": null,
            "grid_template_areas": null,
            "grid_template_columns": null,
            "grid_template_rows": null,
            "height": null,
            "justify_content": null,
            "justify_items": null,
            "left": null,
            "margin": null,
            "max_height": null,
            "max_width": null,
            "min_height": null,
            "min_width": null,
            "object_fit": null,
            "object_position": null,
            "order": null,
            "overflow": null,
            "overflow_x": null,
            "overflow_y": null,
            "padding": null,
            "right": null,
            "top": null,
            "visibility": null,
            "width": null
          }
        },
        "cfb447773d9f4499b5c59ec5a0f0ee5a": {
          "model_module": "@jupyter-widgets/controls",
          "model_module_version": "1.5.0",
          "model_name": "DescriptionStyleModel",
          "state": {
            "_model_module": "@jupyter-widgets/controls",
            "_model_module_version": "1.5.0",
            "_model_name": "DescriptionStyleModel",
            "_view_count": null,
            "_view_module": "@jupyter-widgets/base",
            "_view_module_version": "1.2.0",
            "_view_name": "StyleView",
            "description_width": ""
          }
        },
        "da90202da8ea4acaa809f9b72f437196": {
          "model_module": "@jupyter-widgets/controls",
          "model_module_version": "1.5.0",
          "model_name": "DescriptionStyleModel",
          "state": {
            "_model_module": "@jupyter-widgets/controls",
            "_model_module_version": "1.5.0",
            "_model_name": "DescriptionStyleModel",
            "_view_count": null,
            "_view_module": "@jupyter-widgets/base",
            "_view_module_version": "1.2.0",
            "_view_name": "StyleView",
            "description_width": ""
          }
        },
        "dcda7e295d88418a9725aedc3e5eba8a": {
          "model_module": "@jupyter-widgets/base",
          "model_module_version": "1.2.0",
          "model_name": "LayoutModel",
          "state": {
            "_model_module": "@jupyter-widgets/base",
            "_model_module_version": "1.2.0",
            "_model_name": "LayoutModel",
            "_view_count": null,
            "_view_module": "@jupyter-widgets/base",
            "_view_module_version": "1.2.0",
            "_view_name": "LayoutView",
            "align_content": null,
            "align_items": null,
            "align_self": null,
            "border": null,
            "bottom": null,
            "display": null,
            "flex": null,
            "flex_flow": null,
            "grid_area": null,
            "grid_auto_columns": null,
            "grid_auto_flow": null,
            "grid_auto_rows": null,
            "grid_column": null,
            "grid_gap": null,
            "grid_row": null,
            "grid_template_areas": null,
            "grid_template_columns": null,
            "grid_template_rows": null,
            "height": null,
            "justify_content": null,
            "justify_items": null,
            "left": null,
            "margin": null,
            "max_height": null,
            "max_width": null,
            "min_height": null,
            "min_width": null,
            "object_fit": null,
            "object_position": null,
            "order": null,
            "overflow": null,
            "overflow_x": null,
            "overflow_y": null,
            "padding": null,
            "right": null,
            "top": null,
            "visibility": null,
            "width": null
          }
        },
        "df4f2ba01aea430ab72f7fec722adfc3": {
          "model_module": "@jupyter-widgets/base",
          "model_module_version": "1.2.0",
          "model_name": "LayoutModel",
          "state": {
            "_model_module": "@jupyter-widgets/base",
            "_model_module_version": "1.2.0",
            "_model_name": "LayoutModel",
            "_view_count": null,
            "_view_module": "@jupyter-widgets/base",
            "_view_module_version": "1.2.0",
            "_view_name": "LayoutView",
            "align_content": null,
            "align_items": null,
            "align_self": null,
            "border": null,
            "bottom": null,
            "display": null,
            "flex": null,
            "flex_flow": null,
            "grid_area": null,
            "grid_auto_columns": null,
            "grid_auto_flow": null,
            "grid_auto_rows": null,
            "grid_column": null,
            "grid_gap": null,
            "grid_row": null,
            "grid_template_areas": null,
            "grid_template_columns": null,
            "grid_template_rows": null,
            "height": null,
            "justify_content": null,
            "justify_items": null,
            "left": null,
            "margin": null,
            "max_height": null,
            "max_width": null,
            "min_height": null,
            "min_width": null,
            "object_fit": null,
            "object_position": null,
            "order": null,
            "overflow": null,
            "overflow_x": null,
            "overflow_y": null,
            "padding": null,
            "right": null,
            "top": null,
            "visibility": null,
            "width": null
          }
        },
        "e32161d67cfc44c38bd71afdffd634be": {
          "model_module": "@jupyter-widgets/base",
          "model_module_version": "1.2.0",
          "model_name": "LayoutModel",
          "state": {
            "_model_module": "@jupyter-widgets/base",
            "_model_module_version": "1.2.0",
            "_model_name": "LayoutModel",
            "_view_count": null,
            "_view_module": "@jupyter-widgets/base",
            "_view_module_version": "1.2.0",
            "_view_name": "LayoutView",
            "align_content": null,
            "align_items": null,
            "align_self": null,
            "border": null,
            "bottom": null,
            "display": null,
            "flex": null,
            "flex_flow": null,
            "grid_area": null,
            "grid_auto_columns": null,
            "grid_auto_flow": null,
            "grid_auto_rows": null,
            "grid_column": null,
            "grid_gap": null,
            "grid_row": null,
            "grid_template_areas": null,
            "grid_template_columns": null,
            "grid_template_rows": null,
            "height": null,
            "justify_content": null,
            "justify_items": null,
            "left": null,
            "margin": null,
            "max_height": null,
            "max_width": null,
            "min_height": null,
            "min_width": null,
            "object_fit": null,
            "object_position": null,
            "order": null,
            "overflow": null,
            "overflow_x": null,
            "overflow_y": null,
            "padding": null,
            "right": null,
            "top": null,
            "visibility": null,
            "width": null
          }
        },
        "e561cadccca9412fa25ee1b2b9d895d3": {
          "model_module": "@jupyter-widgets/base",
          "model_module_version": "1.2.0",
          "model_name": "LayoutModel",
          "state": {
            "_model_module": "@jupyter-widgets/base",
            "_model_module_version": "1.2.0",
            "_model_name": "LayoutModel",
            "_view_count": null,
            "_view_module": "@jupyter-widgets/base",
            "_view_module_version": "1.2.0",
            "_view_name": "LayoutView",
            "align_content": null,
            "align_items": null,
            "align_self": null,
            "border": null,
            "bottom": null,
            "display": null,
            "flex": null,
            "flex_flow": null,
            "grid_area": null,
            "grid_auto_columns": null,
            "grid_auto_flow": null,
            "grid_auto_rows": null,
            "grid_column": null,
            "grid_gap": null,
            "grid_row": null,
            "grid_template_areas": null,
            "grid_template_columns": null,
            "grid_template_rows": null,
            "height": null,
            "justify_content": null,
            "justify_items": null,
            "left": null,
            "margin": null,
            "max_height": null,
            "max_width": null,
            "min_height": null,
            "min_width": null,
            "object_fit": null,
            "object_position": null,
            "order": null,
            "overflow": null,
            "overflow_x": null,
            "overflow_y": null,
            "padding": null,
            "right": null,
            "top": null,
            "visibility": null,
            "width": null
          }
        },
        "eacb32a193fa4307b159702d0bd5b4bd": {
          "model_module": "@jupyter-widgets/controls",
          "model_module_version": "1.5.0",
          "model_name": "HBoxModel",
          "state": {
            "_dom_classes": [],
            "_model_module": "@jupyter-widgets/controls",
            "_model_module_version": "1.5.0",
            "_model_name": "HBoxModel",
            "_view_count": null,
            "_view_module": "@jupyter-widgets/controls",
            "_view_module_version": "1.5.0",
            "_view_name": "HBoxView",
            "box_style": "",
            "children": [
              "IPY_MODEL_38f7a47cc1704a36998589cde51e1f6a",
              "IPY_MODEL_b3ad13a7630f477b9d312a03838c1419",
              "IPY_MODEL_a906cc4fc3c34e2fba460165072987a2"
            ],
            "layout": "IPY_MODEL_ca52be2639124488a0668d5e0466d608"
          }
        },
        "f68690faf78740669d2d910a877446bb": {
          "model_module": "@jupyter-widgets/controls",
          "model_module_version": "1.5.0",
          "model_name": "HTMLModel",
          "state": {
            "_dom_classes": [],
            "_model_module": "@jupyter-widgets/controls",
            "_model_module_version": "1.5.0",
            "_model_name": "HTMLModel",
            "_view_count": null,
            "_view_module": "@jupyter-widgets/controls",
            "_view_module_version": "1.5.0",
            "_view_name": "HTMLView",
            "description": "",
            "description_tooltip": null,
            "layout": "IPY_MODEL_c45137933f8d430f9d32976ecd8fb58f",
            "placeholder": "​",
            "style": "IPY_MODEL_221098ab2b834053baca92e50a6b883a",
            "value": "100%"
          }
        },
        "fb9f0cf889fc448a936f15e83cfbf2f6": {
          "model_module": "@jupyter-widgets/base",
          "model_module_version": "1.2.0",
          "model_name": "LayoutModel",
          "state": {
            "_model_module": "@jupyter-widgets/base",
            "_model_module_version": "1.2.0",
            "_model_name": "LayoutModel",
            "_view_count": null,
            "_view_module": "@jupyter-widgets/base",
            "_view_module_version": "1.2.0",
            "_view_name": "LayoutView",
            "align_content": null,
            "align_items": null,
            "align_self": null,
            "border": null,
            "bottom": null,
            "display": null,
            "flex": null,
            "flex_flow": null,
            "grid_area": null,
            "grid_auto_columns": null,
            "grid_auto_flow": null,
            "grid_auto_rows": null,
            "grid_column": null,
            "grid_gap": null,
            "grid_row": null,
            "grid_template_areas": null,
            "grid_template_columns": null,
            "grid_template_rows": null,
            "height": null,
            "justify_content": null,
            "justify_items": null,
            "left": null,
            "margin": null,
            "max_height": null,
            "max_width": null,
            "min_height": null,
            "min_width": null,
            "object_fit": null,
            "object_position": null,
            "order": null,
            "overflow": null,
            "overflow_x": null,
            "overflow_y": null,
            "padding": null,
            "right": null,
            "top": null,
            "visibility": null,
            "width": null
          }
        }
      }
    }
  },
  "nbformat": 4,
  "nbformat_minor": 0
}
